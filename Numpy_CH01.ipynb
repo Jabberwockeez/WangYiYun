{
 "cells": [
  {
   "cell_type": "markdown",
   "metadata": {
    "collapsed": true
   },
   "source": [
    "# 【课程1.2】  Numpy基础数据结构\n",
    "NumPy数组是一个多维数组对象，称为ndarray。其由两部分组成：\n",
    "① 实际的数据\n",
    "② 描述这些数据的元数据"
   ]
  },
  {
   "cell_type": "code",
   "execution_count": 2,
   "metadata": {
    "collapsed": true
   },
   "outputs": [],
   "source": [
    "import numpy as np"
   ]
  },
  {
   "cell_type": "code",
   "execution_count": 46,
   "metadata": {},
   "outputs": [
    {
     "name": "stdout",
     "output_type": "stream",
     "text": [
      "1 [[ 1  2  3  4  5  6]\n",
      " [ 5  6  7  8  9 10]]\n",
      "\n",
      "2 2\n",
      "\n",
      "3 (2, 6)\n",
      "\n",
      "4 12\n",
      "\n",
      "5 int64\n",
      "\n",
      "6 8\n",
      "\n",
      "7 <memory at 0x111adb7e0>\n",
      "\n"
     ]
    },
    {
     "data": {
      "text/plain": [
       "array([[ 1,  2,  3,  4,  5,  6],\n",
       "       [ 5,  6,  7,  8,  9, 10]])"
      ]
     },
     "execution_count": 46,
     "metadata": {},
     "output_type": "execute_result"
    }
   ],
   "source": [
    "ar = np.array([[1, 2, 3, 4, 5, 6], [5, 6, 7, 8, 9, 10]])\n",
    "print(1, ar); print()\n",
    "print(2, ar.ndim); print()\n",
    "print(3, ar.shape); print()\n",
    "print(4, ar.size); print()\n",
    "print(5, ar.dtype); print()\n",
    "print(6, ar.itemsize); print()\n",
    "print(7, ar.data); print()\n",
    "ar"
   ]
  },
  {
   "cell_type": "code",
   "execution_count": 66,
   "metadata": {},
   "outputs": [
    {
     "name": "stdout",
     "output_type": "stream",
     "text": [
      "[0 1 2 3 4 5 6 7 8 9]\n",
      "\n",
      "(10,)\n",
      "\n",
      "[0 1 2 3 4 5 6 7 8 9]\n",
      "\n",
      "[list([1, 2, 3, 4, 5]) list([6, 7, 8, 9, 10, 11])]\n",
      "\n",
      "(2,)\n",
      "\n",
      "[[ 0.92406759  0.81722698  0.14847491  0.79572013  0.06389517]\n",
      " [ 0.41414718  0.50180126  0.09103879  0.9916897   0.31450525]]\n"
     ]
    }
   ],
   "source": [
    "# 创建数组\n",
    "\n",
    "ar = np.array(range(10))\n",
    "print(ar); print()\n",
    "print(ar.shape); print()\n",
    "\n",
    "ar = np.arange(10)\n",
    "print(ar); print()\n",
    "\n",
    "ar = np.array([[1, 2, 3, 4, 5], [6, 7, 8, 9, 10, 11]])\n",
    "print(ar); print()\n",
    "print(ar.shape); print()\n",
    "\n",
    "ar = np.random.rand(10).reshape(2, 5)\n",
    "print(ar)"
   ]
  },
  {
   "cell_type": "code",
   "execution_count": 79,
   "metadata": {},
   "outputs": [
    {
     "name": "stdout",
     "output_type": "stream",
     "text": [
      "[ 10.  11.  12.  13.  14.  15.  16.  17.  18.  19.  20.]\n",
      "\n",
      "[ 10.  11.  12.  13.  14.  15.  16.  17.  18.  19.] <class 'numpy.ndarray'>\n",
      "\n",
      "(array([ 10.,  11.,  12.,  13.,  14.,  15.,  16.,  17.,  18.,  19.]), 1.0) <class 'tuple'>\n",
      "\n",
      "[ 10.  11.  12.  13.  14.  15.  16.  17.  18.  19.]\n"
     ]
    }
   ],
   "source": [
    "ar = np.linspace(10,20,11)\n",
    "print(ar); print()\n",
    "\n",
    "ar = np.linspace(10,20,10,endpoint=False)\n",
    "print(ar, type(ar)); print()\n",
    "\n",
    "ar = np.linspace(10,20,10,endpoint=False,retstep=True)\n",
    "print(ar, type(ar)); print()\n",
    "\n",
    "print(ar[0])"
   ]
  },
  {
   "cell_type": "code",
   "execution_count": 92,
   "metadata": {},
   "outputs": [
    {
     "name": "stdout",
     "output_type": "stream",
     "text": [
      "1 [ 0.  0.  0.  0.  0.  0.  0.  0.  0.  0.]\n",
      "\n",
      "2 [[[ 0.  0.]\n",
      "  [ 0.  0.]\n",
      "  [ 0.  0.]]\n",
      "\n",
      " [[ 0.  0.]\n",
      "  [ 0.  0.]\n",
      "  [ 0.  0.]]]\n",
      "\n",
      "3 [[0 0 0 0 0]\n",
      " [0 0 0 0 0]]\n"
     ]
    }
   ],
   "source": [
    "ar = np.zeros(10)\n",
    "print(1, ar); print()\n",
    "ar = np.zeros((2, 3, 2))\n",
    "print(2, ar); print()\n",
    "ar = np.zeros((2,5), dtype=int)\n",
    "print(3, ar)"
   ]
  },
  {
   "cell_type": "code",
   "execution_count": 87,
   "metadata": {},
   "outputs": [
    {
     "name": "stdout",
     "output_type": "stream",
     "text": [
      "[[ 0  1  2  3  4]\n",
      " [ 5  6  7  8  9]\n",
      " [10 11 12 13 14]]\n",
      "\n",
      "[[0 0 0 0 0]\n",
      " [0 0 0 0 0]\n",
      " [0 0 0 0 0]]\n"
     ]
    }
   ],
   "source": [
    "ar = np.arange(15).reshape(3,5)\n",
    "print(ar); print()\n",
    "ar_zero = np.zeros_like(ar)\n",
    "print(ar_zero)"
   ]
  },
  {
   "cell_type": "markdown",
   "metadata": {},
   "source": [
    "# 【课程1.3】Numpy通用函数"
   ]
  },
  {
   "cell_type": "code",
   "execution_count": 96,
   "metadata": {},
   "outputs": [
    {
     "name": "stdout",
     "output_type": "stream",
     "text": [
      "[[0 1 2 3 4]\n",
      " [5 6 7 8 9]]\n",
      "[[ 0.  0.]\n",
      " [ 0.  0.]\n",
      " [ 0.  0.]\n",
      " [ 0.  0.]\n",
      " [ 0.  0.]]\n"
     ]
    }
   ],
   "source": [
    "ar_1 = np.arange(10)\n",
    "ar_2 = np.zeros((2,5))\n",
    "print(ar_1.reshape(2,5))\n",
    "print(ar_2.T)"
   ]
  },
  {
   "cell_type": "code",
   "execution_count": 112,
   "metadata": {},
   "outputs": [
    {
     "name": "stdout",
     "output_type": "stream",
     "text": [
      "[[0 1 2 3 4 0]\n",
      " [1 2 3 4 0 1]]\n",
      "\n",
      "None\n",
      "[[0 1 2 3]\n",
      " [4 0 1 2]\n",
      " [3 4 0 1]]\n"
     ]
    }
   ],
   "source": [
    "ar = np.resize(np.arange(5), (2,6))\n",
    "print(ar); print()\n",
    "\n",
    "ar_resize = ar.resize(3,4)\n",
    "print(ar_resize) # 为空\n",
    "print(ar)        # 原数据改变\n",
    "\n",
    "# resize方法改变原数据，不返回结果"
   ]
  },
  {
   "cell_type": "code",
   "execution_count": 118,
   "metadata": {},
   "outputs": [
    {
     "name": "stdout",
     "output_type": "stream",
     "text": [
      "[0 1 2 3 4] int64\n",
      "[ 0.  1.  2.  3.  4.] float64\n"
     ]
    }
   ],
   "source": [
    "ar = np.arange(5)\n",
    "print(ar, ar.dtype)\n",
    "ar_astp = ar.astype(float)\n",
    "print(ar_astp, ar_astp.dtype)"
   ]
  },
  {
   "cell_type": "code",
   "execution_count": 131,
   "metadata": {},
   "outputs": [
    {
     "name": "stdout",
     "output_type": "stream",
     "text": [
      "[0 1 2 3 4] [5 6 7]\n",
      "\n",
      "[0 1 2 3 4 5 6 7]\n",
      "\n",
      "[[0]\n",
      " [1]\n",
      " [2]\n",
      " [3]\n",
      " [4]\n",
      " [5]\n",
      " [6]\n",
      " [7]]\n",
      "\n",
      "[[0 1 2 3 4]\n",
      " [5 6 7 5 6]]\n",
      "\n",
      "[0 1 2 3 4] [5 6 7]\n"
     ]
    }
   ],
   "source": [
    "ar_1 = np.arange(5)\n",
    "ar_2 = np.arange(5,8)\n",
    "print(ar_1, ar_2); print()\n",
    "\n",
    "ar_hstack = np.hstack((ar_1, ar_2))\n",
    "print(ar_hstack); print()\n",
    "\n",
    "ar_vstack = np.vstack((ar_1.reshape(5,1), ar_2.reshape(3,1)))\n",
    "print(ar_vstack); print()\n",
    "ar_vstack = np.vstack((ar_1, np.resize(ar_2,(1,5))))\n",
    "print(ar_vstack); print()\n",
    "\n",
    "print(ar_1, ar_2)\n",
    "# ar_stack = np.stack((ar_1, ar_2))\n",
    "# print(ar_stack, axis=1)"
   ]
  },
  {
   "cell_type": "code",
   "execution_count": 140,
   "metadata": {},
   "outputs": [
    {
     "name": "stdout",
     "output_type": "stream",
     "text": [
      "[[ 0  1  2  3]\n",
      " [ 4  5  6  7]\n",
      " [ 8  9 10 11]\n",
      " [12 13 14 15]]\n",
      "\n",
      "[[ 0  1]\n",
      " [ 4  5]\n",
      " [ 8  9]\n",
      " [12 13]]\n",
      "[[ 2  3]\n",
      " [ 6  7]\n",
      " [10 11]\n",
      " [14 15]]\n",
      "\n",
      "[array([[0, 1, 2, 3],\n",
      "       [4, 5, 6, 7]]), array([[ 8,  9, 10, 11],\n",
      "       [12, 13, 14, 15]])]\n"
     ]
    }
   ],
   "source": [
    "ar = np.arange(16).reshape(4, 4)\n",
    "print(ar); print()\n",
    "\n",
    "ar_hsplit = np.hsplit(ar, 2)\n",
    "print(ar_hsplit[0])\n",
    "print(ar_hsplit[1]); print()\n",
    "\n",
    "ar_vsplit = np.vsplit(ar, 2)\n",
    "print(ar_vsplit)"
   ]
  },
  {
   "cell_type": "code",
   "execution_count": 144,
   "metadata": {},
   "outputs": [
    {
     "name": "stdout",
     "output_type": "stream",
     "text": [
      "175.0\n",
      "2800\n"
     ]
    }
   ],
   "source": [
    "ar = np.arange(16).reshape(4,4)\n",
    "ar = ar * 10 + 100\n",
    "print(ar.mean())\n",
    "print(ar.sum())"
   ]
  },
  {
   "cell_type": "markdown",
   "metadata": {},
   "source": [
    "# 【课程1.4】  Numpy索引及切片"
   ]
  },
  {
   "cell_type": "code",
   "execution_count": 152,
   "metadata": {},
   "outputs": [
    {
     "name": "stdout",
     "output_type": "stream",
     "text": [
      "[[ 0  1  2  3]\n",
      " [ 4  5  6  7]\n",
      " [ 8  9 10 11]\n",
      " [12 13 14 15]]\n",
      "\n",
      "[ 8  9 10 11] 9\n",
      "\n",
      "[[1 2]\n",
      " [5 6]]\n"
     ]
    }
   ],
   "source": [
    "ar = np.arange(16).reshape(4, 4)\n",
    "print(ar); print()\n",
    "\n",
    "print(ar[2], ar[2][1]); print()\n",
    "\n",
    "print(ar[:2, 1:3])"
   ]
  },
  {
   "cell_type": "code",
   "execution_count": 157,
   "metadata": {},
   "outputs": [
    {
     "name": "stdout",
     "output_type": "stream",
     "text": [
      "[[[ 0  1  2  3]\n",
      "  [ 4  5  6  7]]\n",
      "\n",
      " [[ 8  9 10 11]\n",
      "  [12 13 14 15]]\n",
      "\n",
      " [[16 17 18 19]\n",
      "  [20 21 22 23]]]\n",
      "\n",
      "[[[ 1  2]]\n",
      "\n",
      " [[ 9 10]]]\n"
     ]
    }
   ],
   "source": [
    "ar = np.arange(24).reshape(3,2,4)\n",
    "print(ar); print()\n",
    "\n",
    "print(ar[:2, :1, 1:3])"
   ]
  },
  {
   "cell_type": "code",
   "execution_count": 177,
   "metadata": {},
   "outputs": [
    {
     "name": "stdout",
     "output_type": "stream",
     "text": [
      "[[ 0  1  2  3]\n",
      " [ 4  5  6  7]\n",
      " [ 8  9 10 11]]\n",
      "\n",
      "[ True False  True] [ True  True False False]\n",
      "\n",
      "[[ 0  1  2  3]\n",
      " [ 8  9 10 11]]\n",
      "[[0 1]\n",
      " [8 9]]\n",
      "\n",
      "[[False False False False]\n",
      " [False False  True  True]\n",
      " [ True  True  True  True]]\n",
      "[ 6  7  8  9 10 11]\n"
     ]
    }
   ],
   "source": [
    "ar = np.arange(12).reshape(3, 4)\n",
    "print(ar); print()\n",
    "\n",
    "ar_bool_1 = np.array([True, False, True])\n",
    "ar_bool_2 = np.array([True, True, False, False])\n",
    "print(ar_bool_1, ar_bool_2); print()\n",
    "\n",
    "ar_sel_row = ar[ar_bool_1]\n",
    "print(ar_sel_row)\n",
    "ar_sel_col = ar_sel_row[:, ar_bool_2]\n",
    "print(ar_sel_col); print()\n",
    "\n",
    "print(ar>5)\n",
    "print(ar[ar>5])"
   ]
  },
  {
   "cell_type": "markdown",
   "metadata": {},
   "source": [
    "# 【课程1.5】  Numpy随机数"
   ]
  },
  {
   "cell_type": "code",
   "execution_count": 240,
   "metadata": {},
   "outputs": [
    {
     "name": "stdout",
     "output_type": "stream",
     "text": [
      "[[-0.85166101  1.29771313]\n",
      " [-1.16076669 -0.08795427]\n",
      " [-0.44617912 -0.58382794]]\n"
     ]
    }
   ],
   "source": [
    "ar = np.random.normal(size=(3, 2))  # normal标准正态分布\n",
    "print(ar)"
   ]
  },
  {
   "cell_type": "code",
   "execution_count": 243,
   "metadata": {},
   "outputs": [
    {
     "name": "stdout",
     "output_type": "stream",
     "text": [
      "[[ 65.01823427  92.56505353]\n",
      " [  2.38036161  84.19252762]\n",
      " [ 58.49913136  27.69556366]]\n"
     ]
    }
   ],
   "source": [
    "ar = np.random.rand(3,2)*100  # rand生成(0,1)浮点数 均有分布\n",
    "print(ar)"
   ]
  },
  {
   "cell_type": "code",
   "execution_count": 247,
   "metadata": {},
   "outputs": [
    {
     "data": {
      "text/plain": [
       "<matplotlib.collections.PathCollection at 0x1184097b8>"
      ]
     },
     "execution_count": 247,
     "metadata": {},
     "output_type": "execute_result"
    },
    {
     "data": {
      "image/png": "[encoded data removed]",
      "text/plain": [
       "<matplotlib.figure.Figure at 0x118017710>"
      ]
     },
     "metadata": {},
     "output_type": "display_data"
    }
   ],
   "source": [
    "import matplotlib.pyplot as plt\n",
    "\n",
    "data_1 = np.random.rand(50)\n",
    "data_2 = np.random.rand(50)\n",
    "data_3 = np.random.randn(50)  # randn正态分布\n",
    "data_4 = np.random.randn(50)\n",
    "\n",
    "% matplotlib inline\n",
    "plt.scatter(data_1, data_2)\n",
    "plt.scatter(data_3, data_4)"
   ]
  },
  {
   "cell_type": "code",
   "execution_count": 281,
   "metadata": {},
   "outputs": [
    {
     "name": "stdout",
     "output_type": "stream",
     "text": [
      "[4 4 1 3 3 4]\n",
      "\n",
      "[[[2 5 2]\n",
      "  [3 4 3]]\n",
      "\n",
      " [[4 2 3]\n",
      "  [4 4 1]]\n",
      "\n",
      " [[1 4 3]\n",
      "  [3 5 3]]]\n"
     ]
    }
   ],
   "source": [
    "ar = np.random.randint(1,6,size=6)\n",
    "print(ar); print()\n",
    "ar = np.random.randint(1,6,size=(3,2,3))\n",
    "print(ar)"
   ]
  },
  {
   "cell_type": "markdown",
   "metadata": {},
   "source": [
    "# 【课程1.6】  Numpy数据的输入输出"
   ]
  },
  {
   "cell_type": "code",
   "execution_count": 288,
   "metadata": {},
   "outputs": [
    {
     "name": "stdout",
     "output_type": "stream",
     "text": [
      "[[21 85 43 86 53  7 68 43 18 90]\n",
      " [81 87  6 96 71 50 67 45 63 71]\n",
      " [92 56 99 55  3 71 98 47 77 68]\n",
      " [82 55 69 28 13  4 43 43  7 14]\n",
      " [92 44 51  3 55 62 15 42 12 69]\n",
      " [83 23 39 47 29 90  3 63 57 41]\n",
      " [24 34 60 10 33 26 52 80 45 49]\n",
      " [88 86 23 21 18 94 59  7 65 24]\n",
      " [61 68 32 44 29 40  2 46 53 15]\n",
      " [ 0 54 73 26 90 83 67 79 54 88]]\n",
      "[[ 21.  85.  43.  86.  53.   7.  68.  43.  18.  90.]\n",
      " [ 81.  87.   6.  96.  71.  50.  67.  45.  63.  71.]\n",
      " [ 92.  56.  99.  55.   3.  71.  98.  47.  77.  68.]\n",
      " [ 82.  55.  69.  28.  13.   4.  43.  43.   7.  14.]\n",
      " [ 92.  44.  51.   3.  55.  62.  15.  42.  12.  69.]\n",
      " [ 83.  23.  39.  47.  29.  90.   3.  63.  57.  41.]\n",
      " [ 24.  34.  60.  10.  33.  26.  52.  80.  45.  49.]\n",
      " [ 88.  86.  23.  21.  18.  94.  59.   7.  65.  24.]\n",
      " [ 61.  68.  32.  44.  29.  40.   2.  46.  53.  15.]\n",
      " [  0.  54.  73.  26.  90.  83.  67.  79.  54.  88.]] float64\n"
     ]
    }
   ],
   "source": [
    "import os\n",
    "os.chdir('/Users/Ji-work/Desktop')\n",
    "\n",
    "ar = np.random.randint(0, 100, size=(10, 10))\n",
    "print(ar)\n",
    "np.savetxt('numpy.txt', ar, delimiter=',')\n",
    "ar = np.loadtxt('numpy.txt', delimiter=',')\n",
    "print(ar, ar.dtype)"
   ]
  }
 ],
 "metadata": {
  "kernelspec": {
   "display_name": "Python 3",
   "language": "python",
   "name": "python3"
  },
  "language_info": {
   "codemirror_mode": {
    "name": "ipython",
    "version": 3
   },
   "file_extension": ".py",
   "mimetype": "text/x-python",
   "name": "python",
   "nbconvert_exporter": "python",
   "pygments_lexer": "ipython3",
   "version": "3.6.4"
  }
 },
 "nbformat": 4,
 "nbformat_minor": 2
}
