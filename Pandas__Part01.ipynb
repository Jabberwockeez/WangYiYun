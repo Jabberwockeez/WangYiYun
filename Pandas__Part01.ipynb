{
 "cells": [
  {
   "cell_type": "markdown",
   "metadata": {},
   "source": [
    "# 【课程2.2】  Pandas数据结构Series：基本概念及创建"
   ]
  },
  {
   "cell_type": "code",
   "execution_count": 1,
   "metadata": {
    "collapsed": true
   },
   "outputs": [],
   "source": [
    "import numpy as np\n",
    "import pandas as pd"
   ]
  },
  {
   "cell_type": "code",
   "execution_count": 17,
   "metadata": {},
   "outputs": [
    {
     "name": "stdout",
     "output_type": "stream",
     "text": [
      "[4 1 3 8 9]\n",
      "\n",
      "0    4\n",
      "1    1\n",
      "2    3\n",
      "3    8\n",
      "4    9\n",
      "dtype: int64\n",
      "\n",
      "RangeIndex(start=0, stop=5, step=1) <class 'pandas.core.indexes.range.RangeIndex'>\n",
      "[0, 1, 2, 3, 4]\n",
      "[4 1 3 8 9] <class 'numpy.ndarray'>\n"
     ]
    }
   ],
   "source": [
    "ar = np.random.randint(10,size=5)\n",
    "sr = pd.Series(ar)\n",
    "print(ar); print()\n",
    "print(sr); print()\n",
    "print(sr.index, type(sr.index))\n",
    "print(list(sr.index))\n",
    "print(sr.values, type(sr.values))"
   ]
  },
  {
   "cell_type": "code",
   "execution_count": 20,
   "metadata": {},
   "outputs": [
    {
     "name": "stdout",
     "output_type": "stream",
     "text": [
      "1\n"
     ]
    }
   ],
   "source": [
    "sr = pd.Series(ar, index=list('abcde'))\n",
    "print(sr['b'])"
   ]
  },
  {
   "cell_type": "code",
   "execution_count": 24,
   "metadata": {},
   "outputs": [
    {
     "name": "stdout",
     "output_type": "stream",
     "text": [
      "a    1\n",
      "b    2\n",
      "c    3\n",
      "dtype: int64\n"
     ]
    }
   ],
   "source": [
    "dc = {'a':1, 'b':2, 'c':3}\n",
    "sr = pd.Series(dc)\n",
    "print(sr)"
   ]
  },
  {
   "cell_type": "code",
   "execution_count": 38,
   "metadata": {},
   "outputs": [
    {
     "name": "stdout",
     "output_type": "stream",
     "text": [
      "2     4.0\n",
      "3     9.0\n",
      "4     4.0\n",
      "5     1.0\n",
      "6     4.0\n",
      "7     1.0\n",
      "8     6.0\n",
      "9     6.0\n",
      "10    4.0\n",
      "11    2.0\n",
      "dtype: float64\n"
     ]
    }
   ],
   "source": [
    "ar = np.random.randint(10,size=10)\n",
    "sr = pd.Series(ar, index=range(2,12), dtype=np.float)\n",
    "print(sr)"
   ]
  },
  {
   "cell_type": "code",
   "execution_count": 39,
   "metadata": {},
   "outputs": [
    {
     "data": {
      "text/plain": [
       "0    10\n",
       "1    10\n",
       "2    10\n",
       "3    10\n",
       "4    10\n",
       "dtype: int64"
      ]
     },
     "execution_count": 39,
     "metadata": {},
     "output_type": "execute_result"
    }
   ],
   "source": [
    "sr = pd.Series(10, index=range(5))\n",
    "sr"
   ]
  },
  {
   "cell_type": "markdown",
   "metadata": {},
   "source": [
    "# 【课程2.3】  Pandas数据结构Series：索引"
   ]
  },
  {
   "cell_type": "code",
   "execution_count": 89,
   "metadata": {},
   "outputs": [
    {
     "name": "stdout",
     "output_type": "stream",
     "text": [
      "7\n",
      "7\n",
      "\n",
      "a    6\n",
      "b    7\n",
      "c    5\n",
      "dtype: int64\n",
      "a    6\n",
      "b    7\n",
      "c    5\n",
      "dtype: int64\n",
      "\n",
      "b    7\n",
      "c    5\n",
      "a    6\n",
      "dtype: int64\n",
      "b    7\n",
      "c    5\n",
      "a    6\n",
      "dtype: int64\n"
     ]
    }
   ],
   "source": [
    "sr = pd.Series(np.random.randint(10,size=5) ,index=list('abcde'))\n",
    "print(sr['b'])\n",
    "print(sr[1]); print()\n",
    "\n",
    "print(sr['a':'c'])\n",
    "print(sr[0:3]); print()\n",
    "\n",
    "print(sr[['b','c','a']])\n",
    "print(sr[[1, 2, 0]])"
   ]
  },
  {
   "cell_type": "markdown",
   "metadata": {},
   "source": [
    "# 【课程2.4】  Pandas数据结构Series：基本技巧"
   ]
  },
  {
   "cell_type": "code",
   "execution_count": 90,
   "metadata": {},
   "outputs": [
    {
     "name": "stdout",
     "output_type": "stream",
     "text": [
      "a    4\n",
      "b    8\n",
      "c    5\n",
      "d    6\n",
      "e    3\n",
      "dtype: int64\n"
     ]
    }
   ],
   "source": [
    "sr = pd.Series(np.random.randint(10, size=5), index=list('abcde'))\n",
    "print(sr)"
   ]
  },
  {
   "cell_type": "code",
   "execution_count": 97,
   "metadata": {},
   "outputs": [
    {
     "name": "stdout",
     "output_type": "stream",
     "text": [
      "c    5.0\n",
      "d    6.0\n",
      "e    3.0\n",
      "f    NaN\n",
      "g    NaN\n",
      "dtype: float64\n",
      "\n",
      "c           5\n",
      "d           6\n",
      "e           3\n",
      "f    newValue\n",
      "g    newValue\n",
      "dtype: object\n"
     ]
    }
   ],
   "source": [
    "sr_reinx = sr.reindex(list('cdefg'))\n",
    "print(sr_reinx); print()\n",
    "\n",
    "sr_reinx = sr.reindex(list('cdefg'), fill_value='newValue')\n",
    "print(sr_reinx)"
   ]
  },
  {
   "cell_type": "code",
   "execution_count": 101,
   "metadata": {},
   "outputs": [
    {
     "name": "stdout",
     "output_type": "stream",
     "text": [
      "Jack     10\n",
      "Marry    18\n",
      "Tom       1\n",
      "dtype: int64\n",
      "Wang     16\n",
      "Jack     17\n",
      "Marry    15\n",
      "dtype: int64\n",
      "\n",
      "Jack     27.0\n",
      "Marry    33.0\n",
      "Tom       NaN\n",
      "Wang      NaN\n",
      "dtype: float64\n"
     ]
    }
   ],
   "source": [
    "sr_1 = pd.Series(np.random.randint(20, size=3), index=['Jack','Marry','Tom'])\n",
    "sr_2 = pd.Series(np.random.randint(20, size=3), index=['Wang','Jack','Marry'])\n",
    "print(sr_1)\n",
    "print(sr_2); print()\n",
    "print(sr_1 + sr_2)"
   ]
  },
  {
   "cell_type": "code",
   "execution_count": 113,
   "metadata": {},
   "outputs": [
    {
     "name": "stdout",
     "output_type": "stream",
     "text": [
      "a    88\n",
      "b    36\n",
      "c    65\n",
      "d    22\n",
      "e    38\n",
      "dtype: int64\n",
      "--------\n",
      "b    36\n",
      "c    65\n",
      "d    22\n",
      "e    38\n",
      "dtype: int64\n",
      "\n",
      "a    88\n",
      "b    36\n",
      "c    65\n",
      "d    22\n",
      "e    38\n",
      "dtype: int64\n",
      "--------\n",
      "None\n",
      "\n",
      "b    36\n",
      "d    22\n",
      "e    38\n",
      "dtype: int64\n"
     ]
    }
   ],
   "source": [
    "sr = pd.Series(np.random.randint(100, size=5), index=list('abcde'))\n",
    "print(sr); print('--------')\n",
    "\n",
    "sr_1 = sr.drop('a')\n",
    "print(sr_1); print()\n",
    "print(sr); print('--------')\n",
    "\n",
    "sr_2 = sr.drop(['a','c'], inplace=True)\n",
    "print(sr_2); print()                       # sr_2不存在\n",
    "print(sr)"
   ]
  },
  {
   "cell_type": "markdown",
   "metadata": {},
   "source": [
    "# 【课程2.5】  Pandas数据结构Dataframe：基本概念及创建"
   ]
  },
  {
   "cell_type": "code",
   "execution_count": 143,
   "metadata": {},
   "outputs": [
    {
     "name": "stdout",
     "output_type": "stream",
     "text": [
      "<class 'dict'>\n",
      "\n",
      "   age gender  name\n",
      "1   18      m  Jack\n",
      "2   19      m   Tom\n",
      "3   20      f  Mary\n",
      "\n",
      "RangeIndex(start=1, stop=4, step=1)\n",
      "<class 'pandas.core.indexes.range.RangeIndex'>\n",
      "\n",
      "Index(['age', 'gender', 'name'], dtype='object')\n",
      "<class 'pandas.core.indexes.base.Index'>\n",
      "\n",
      "[[18 'm' 'Jack']\n",
      " [19 'm' 'Tom']\n",
      " [20 'f' 'Mary']]\n",
      "<class 'numpy.ndarray'>\n"
     ]
    }
   ],
   "source": [
    "# Dataframe 创建方法一：由数组/list组成的字典\n",
    "\n",
    "data = {'name':['Jack', 'Tom', 'Mary'],\n",
    "       'age':[18, 19, 20],\n",
    "       'gender':['m', 'm', 'f']}\n",
    "print(type(data)); print()\n",
    "df = pd.DataFrame(data, index=range(1,4))\n",
    "print(df); print()\n",
    "print(df.index); print(type(df.index)); print()\n",
    "print(df.columns); print(type(df.columns)); print()\n",
    "print(df.values); print(type(df.values))"
   ]
  },
  {
   "cell_type": "code",
   "execution_count": 151,
   "metadata": {},
   "outputs": [
    {
     "name": "stdout",
     "output_type": "stream",
     "text": [
      "<class 'list'>\n",
      "\n",
      "\n",
      "   one  thr  two\n",
      "0    1  NaN    2\n",
      "1    3  5.0    4\n",
      "\n",
      "   one  two\n",
      "a    1    2\n",
      "b    3    4\n"
     ]
    }
   ],
   "source": [
    "# Dataframe 创建方法四：由字典组成的列表\n",
    "\n",
    "data = [{'one':1, 'two':2}, {'one':3, 'two':4, 'thr':5}]\n",
    "print(type(data),); print()\n",
    "df_1 = pd.DataFrame(data); print()\n",
    "df_2 = pd.DataFrame(data, index=list('ab'), columns=['one', 'two'])\n",
    "print(df_1); print()\n",
    "print(df_2)"
   ]
  },
  {
   "cell_type": "code",
   "execution_count": 156,
   "metadata": {},
   "outputs": [
    {
     "name": "stdout",
     "output_type": "stream",
     "text": [
      "<class 'dict'>\n",
      "\n",
      "         Jack  Mary  Tom\n",
      "Art        80    97   84\n",
      "English    89    94   82\n",
      "Math       90    80   88\n",
      "\n",
      "         Jack  Mary  Tom\n",
      "English    89    94   82\n",
      "Math       90    80   88\n",
      "Art        80    97   84\n",
      "\n",
      "   Jack  Mary  Tom\n",
      "0   NaN   NaN  NaN\n",
      "1   NaN   NaN  NaN\n",
      "2   NaN   NaN  NaN\n"
     ]
    }
   ],
   "source": [
    "# Dataframe 创建方法五：由字典组成的字典\n",
    "\n",
    "data = {'Jack':{'Math':90, 'English':89, 'Art':80},\n",
    "       'Tom':{'Math':88, 'English':82, 'Art':84},\n",
    "       'Mary':{'Math':80, 'English':94, 'Art':97}}\n",
    "print(type(data)); print()\n",
    "df = pd.DataFrame(data)\n",
    "print(df); print()\n",
    "df = pd.DataFrame(data, index=['English','Math','Art'])\n",
    "print(df); print()\n",
    "df = pd.DataFrame(data, index=[0,1,2])\n",
    "print(df)\n",
    "# 由嵌套字典创建DataFrame只可改变index顺序，修改index结果填充NaN"
   ]
  },
  {
   "cell_type": "code",
   "execution_count": 134,
   "metadata": {},
   "outputs": [
    {
     "name": "stdout",
     "output_type": "stream",
     "text": [
      "    one  two\n",
      "a  79.0   31\n",
      "b  26.0   12\n",
      "c  89.0   50\n",
      "d   NaN   32\n",
      "\n",
      "a    79.0\n",
      "b    26.0\n",
      "c    89.0\n",
      "d     NaN\n",
      "Name: one, dtype: float64\n",
      "<class 'pandas.core.series.Series'>\n"
     ]
    }
   ],
   "source": [
    "# Dataframe 创建方法二：由Series组成的字典\n",
    "\n",
    "data = {'one':pd.Series(np.random.randint(100,size=3,), index=list('abc')),\n",
    "       'two':pd.Series(np.random.randint(100,size=4), index=list('abcd'))}\n",
    "df = pd.DataFrame(data)\n",
    "print(df); print()\n",
    "print(df.one); print(type(df.one))\n",
    "# 数据index不一致时，自动用NaN补齐，且整型转为float"
   ]
  },
  {
   "cell_type": "code",
   "execution_count": 140,
   "metadata": {},
   "outputs": [
    {
     "name": "stdout",
     "output_type": "stream",
     "text": [
      "    0   1   2\n",
      "0  96  39  77\n",
      "1  92  54  54\n",
      "\n",
      "   one  two  thr\n",
      "a   96   39   77\n",
      "b   92   54   54\n"
     ]
    }
   ],
   "source": [
    "# Dataframe 创建方法三：通过二维数组直接创建\n",
    "\n",
    "ar = np.random.randint(100,size=(2,3))\n",
    "df_1 = pd.DataFrame(ar)\n",
    "df_2 = pd.DataFrame(ar, index=list('ab'), columns=['one', 'two', 'thr'])\n",
    "print(df_1); print()\n",
    "print(df_2)"
   ]
  },
  {
   "cell_type": "markdown",
   "metadata": {},
   "source": [
    "# 【课程2.6】  Pandas数据结构Dataframe：索引"
   ]
  },
  {
   "cell_type": "code",
   "execution_count": 176,
   "metadata": {},
   "outputs": [
    {
     "name": "stdout",
     "output_type": "stream",
     "text": [
      "    a   b   c   d   e\n",
      "1  39  29   8  30  48\n",
      "2  59  59  63  59  62\n",
      "3  80   9  36  62  63 <class 'pandas.core.frame.DataFrame'>\n",
      "\n",
      "1    29\n",
      "2    59\n",
      "3     9\n",
      "Name: b, dtype: int64 <class 'pandas.core.series.Series'>\n",
      "\n",
      "1    29\n",
      "2    59\n",
      "3     9\n",
      "Name: b, dtype: int64 <class 'pandas.core.series.Series'>\n",
      "\n",
      "a    39\n",
      "b    29\n",
      "c     8\n",
      "d    30\n",
      "e    48\n",
      "Name: 1, dtype: int64 <class 'pandas.core.series.Series'>\n",
      "\n",
      "a    59\n",
      "b    59\n",
      "c    63\n",
      "d    59\n",
      "e    62\n",
      "Name: 2, dtype: int64 <class 'pandas.core.series.Series'>\n"
     ]
    }
   ],
   "source": [
    "df = pd.DataFrame(np.random.randint(100, size=(3,5)), index=range(1, 4), columns=list('abcde'))\n",
    "print(df, type(df)); print()\n",
    "print(df.b, type(df.b)); print()\n",
    "print(df['b'], type(df['b'])); print()\n",
    "print(df.loc[1], type(df.loc[1])); print()\n",
    "print(df.iloc[1], type(df.iloc[1]))"
   ]
  },
  {
   "cell_type": "code",
   "execution_count": 177,
   "metadata": {},
   "outputs": [
    {
     "name": "stdout",
     "output_type": "stream",
     "text": [
      "    a   b   c   d   e\n",
      "1  39  29   8  30  48\n",
      "2  59  59  63  59  62\n",
      "\n",
      "    a   b   c   d   e\n",
      "1  39  29   8  30  48\n",
      "2  59  59  63  59  62\n"
     ]
    }
   ],
   "source": [
    "print(df.iloc[:2]); print()  # 末端不包含\n",
    "print(df.loc[:2])            # 末端包含"
   ]
  },
  {
   "cell_type": "code",
   "execution_count": 196,
   "metadata": {},
   "outputs": [
    {
     "name": "stdout",
     "output_type": "stream",
     "text": [
      "    a   b   c   d   e\n",
      "1  39  15   9  95  81\n",
      "2  70  38  97  89  44\n",
      "3  97  97  91  86  55\n",
      "\n",
      "    a   b   c   d   e\n",
      "2  70  38  97  89  44\n",
      "3  97  97  91  86  55\n",
      "\n",
      "      a     b     c     d     e\n",
      "1   NaN   NaN   NaN  95.0  81.0\n",
      "2   NaN   NaN   NaN   NaN   NaN\n",
      "3  97.0  97.0  91.0  86.0  55.0\n"
     ]
    }
   ],
   "source": [
    "df = pd.DataFrame(np.random.randint(100, size=(3,5)), index=range(1, 4), columns=list('abcde'))\n",
    "print(df); print()\n",
    "\n",
    "print(df[df['a']>50]); print()\n",
    "print(df[df.loc[[1,3]]>50])"
   ]
  },
  {
   "cell_type": "code",
   "execution_count": 209,
   "metadata": {},
   "outputs": [
    {
     "name": "stdout",
     "output_type": "stream",
     "text": [
      "             a          b          c          d\n",
      "one  73.427047  41.086824  61.667102  54.997202\n",
      "two  11.737841  22.599795  71.846137  43.918811\n",
      "thr  66.883001  69.120311  56.411674  50.801262\n",
      "for  58.629084  72.776482  79.857923  78.825427\n",
      "\n",
      "             b          c\n",
      "one  41.086824  61.667102\n",
      "two  22.599795  71.846137\n",
      "thr  69.120311  56.411674\n",
      "for  72.776482  79.857923\n",
      "\n",
      "             a          b          c          d\n",
      "thr  66.883001  69.120311  56.411674  50.801262\n",
      "for  58.629084  72.776482  79.857923  78.825427\n",
      "\n",
      "             a          b          c          d\n",
      "two  11.737841  22.599795  71.846137  43.918811\n",
      "one  73.427047  41.086824  61.667102  54.997202\n",
      "\n",
      "             a          b          c          d\n",
      "one  73.427047        NaN  61.667102  54.997202\n",
      "two        NaN        NaN  71.846137        NaN\n",
      "thr  66.883001  69.120311  56.411674  50.801262\n",
      "for  58.629084  72.776482  79.857923  78.825427\n"
     ]
    }
   ],
   "source": [
    "df = pd.DataFrame(np.random.rand(4,4)*100, index=['one', 'two', 'thr', 'for'], columns=list('abcd'))\n",
    "print(df); print()\n",
    "print(df[['b','c']]); print()\n",
    "print(df.iloc[[2,3]]); print()\n",
    "print(df.loc[['two', 'one']]); print()\n",
    "print(df[df>50])"
   ]
  },
  {
   "cell_type": "markdown",
   "metadata": {},
   "source": [
    "# 【课程2.7】  Pandas数据结构Dataframe：基本技巧"
   ]
  },
  {
   "cell_type": "code",
   "execution_count": 226,
   "metadata": {},
   "outputs": [
    {
     "name": "stdout",
     "output_type": "stream",
     "text": [
      "   a  b  c\n",
      "0  1  0  8\n",
      "1  1  1  7\n",
      "2  1  2  6\n",
      "3  1  3  5\n",
      "4  2  4  4\n",
      "5  2  5  3\n",
      "6  3  6  2\n",
      "7  3  7  1\n",
      "\n",
      "   a  b  c\n",
      "3  1  3  5\n",
      "2  1  2  6\n",
      "1  1  1  7\n",
      "0  1  0  8\n",
      "5  2  5  3\n",
      "4  2  4  4\n",
      "7  3  7  1\n",
      "6  3  6  2\n",
      "\n"
     ]
    }
   ],
   "source": [
    "df = pd.DataFrame({'a':[1,1,1,1,2,2,3,3],\n",
    "                  'b':list(range(8)),\n",
    "                  'c':list(range(8,0,-1))})\n",
    "print(df); print()\n",
    "print(df.sort_values(['a','c'])); print()"
   ]
  }
 ],
 "metadata": {
  "kernelspec": {
   "display_name": "Python 3",
   "language": "python",
   "name": "python3"
  },
  "language_info": {
   "codemirror_mode": {
    "name": "ipython",
    "version": 3
   },
   "file_extension": ".py",
   "mimetype": "text/x-python",
   "name": "python",
   "nbconvert_exporter": "python",
   "pygments_lexer": "ipython3",
   "version": "3.6.4"
  }
 },
 "nbformat": 4,
 "nbformat_minor": 2
}
