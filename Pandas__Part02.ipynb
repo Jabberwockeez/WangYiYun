{
 "cells": [
  {
   "cell_type": "markdown",
   "metadata": {},
   "source": [
    "# 【课程2.8】  时间模块：datetime"
   ]
  },
  {
   "cell_type": "code",
   "execution_count": 1,
   "metadata": {
    "collapsed": true
   },
   "outputs": [],
   "source": [
    "import numpy as np\n",
    "import pandas as pd\n",
    "import datetime as dt"
   ]
  },
  {
   "cell_type": "code",
   "execution_count": 4,
   "metadata": {},
   "outputs": [
    {
     "name": "stdout",
     "output_type": "stream",
     "text": [
      "2018-03-28 <class 'datetime.date'>\n",
      "2020-02-20 <class 'datetime.date'>\n"
     ]
    }
   ],
   "source": [
    "today = dt.date.today()\n",
    "print(today, type(today))\n",
    "\n",
    "date = dt.date(2020,2,20)\n",
    "print(date, type(date))"
   ]
  },
  {
   "cell_type": "code",
   "execution_count": 8,
   "metadata": {},
   "outputs": [
    {
     "name": "stdout",
     "output_type": "stream",
     "text": [
      "2018-03-28 16:41:23.307704 <class 'datetime.datetime'>\n"
     ]
    }
   ],
   "source": [
    "now = dt.datetime.now()\n",
    "print(now, type(now))"
   ]
  },
  {
   "cell_type": "code",
   "execution_count": 42,
   "metadata": {},
   "outputs": [
    {
     "name": "stdout",
     "output_type": "stream",
     "text": [
      "2020-02-20 00:00:00\n",
      "2018-03-28 16:53:18.666436\n",
      "693 days, 7:06:41.333564 <class 'datetime.timedelta'>\n"
     ]
    }
   ],
   "source": [
    "time_1 = dt.datetime(2020,2,20)\n",
    "time_2 = dt.datetime.now()\n",
    "print(time_1)\n",
    "print(time_2)\n",
    "print(time_1 - time_2, type(time_1 - time_2))"
   ]
  },
  {
   "cell_type": "code",
   "execution_count": 54,
   "metadata": {},
   "outputs": [
    {
     "name": "stdout",
     "output_type": "stream",
     "text": [
      "2000-10-06 00:00:10\n",
      "2000-09-25 23:59:50\n"
     ]
    }
   ],
   "source": [
    "time_1 = dt.datetime(2000,10,1)\n",
    "period = dt.timedelta(5,10)\n",
    "print(time_1 + period)\n",
    "print(time_1 - period)"
   ]
  },
  {
   "cell_type": "code",
   "execution_count": 57,
   "metadata": {},
   "outputs": [
    {
     "name": "stdout",
     "output_type": "stream",
     "text": [
      "2017-12-06 00:00:00\n",
      "2017-06-12 00:00:00\n"
     ]
    }
   ],
   "source": [
    "from dateutil.parser import parse       # 支持模糊实现时间格式\n",
    "\n",
    "date_1 = '12.06.2017'\n",
    "date_2 = '06/12/2017'\n",
    "print(parse(date_1))\n",
    "print(parse(date_2))"
   ]
  },
  {
   "cell_type": "markdown",
   "metadata": {},
   "source": [
    "# 【课程2.9】  Pandas时刻数据：Timestamp"
   ]
  },
  {
   "cell_type": "code",
   "execution_count": 59,
   "metadata": {},
   "outputs": [
    {
     "name": "stdout",
     "output_type": "stream",
     "text": [
      "2018-10-01 15:00:00 <class 'datetime.datetime'>\n",
      "\n",
      "2017-01-01 00:00:00 <class 'pandas._libs.tslib.Timestamp'>\n",
      "2018-10-01 15:00:00 <class 'pandas._libs.tslib.Timestamp'>\n",
      "\n"
     ]
    }
   ],
   "source": [
    "date_1 = '20170101'\n",
    "date_2 = dt.datetime(2018,10,1,15)\n",
    "print(date_2, type(date_2)); print()\n",
    "\n",
    "time_1 = pd.Timestamp(date_1)\n",
    "time_2 = pd.Timestamp(date_2)\n",
    "print(time_1, type(time_1))\n",
    "print(time_2, type(time_2)); print()"
   ]
  },
  {
   "cell_type": "code",
   "execution_count": 61,
   "metadata": {},
   "outputs": [
    {
     "name": "stdout",
     "output_type": "stream",
     "text": [
      "DatetimeIndex(['2017-12-06', '2017-06-12', '2017-01-01'], dtype='datetime64[ns]', freq=None)\n"
     ]
    }
   ],
   "source": [
    "date_list = ['12.06.2017', '06/12/2017', '20170101']\n",
    "time_3 = pd.to_datetime(date_list)\n",
    "print(time_3)"
   ]
  },
  {
   "cell_type": "code",
   "execution_count": 64,
   "metadata": {
    "collapsed": true
   },
   "outputs": [],
   "source": [
    "from datetime import datetime"
   ]
  },
  {
   "cell_type": "code",
   "execution_count": 67,
   "metadata": {},
   "outputs": [
    {
     "name": "stdout",
     "output_type": "stream",
     "text": [
      "DatetimeIndex(['2015-06-01', '2015-07-01', '2015-08-01', '2015-09-01',\n",
      "               '2015-10-01'],\n",
      "              dtype='datetime64[ns]', freq=None)\n",
      "DatetimeIndex(['2017-02-01', '2017-02-02', '2017-02-03', '2017-02-04',\n",
      "               '2017-02-05', '2017-02-06'],\n",
      "              dtype='datetime64[ns]', freq=None)\n"
     ]
    }
   ],
   "source": [
    "date_1 = [datetime(2015,6,1),datetime(2015,7,1),datetime(2015,8,1),datetime(2015,9,1),datetime(2015,10,1)]\n",
    "date_2 = ['2017-2-1','2017-2-2','2017-2-3','2017-2-4','2017-2-5','2017-2-6']\n",
    "\n",
    "dt_index_1 = pd.to_datetime(date_1)\n",
    "dt_index_2 = pd.to_datetime(date_2)\n",
    "print(dt_index_1)\n",
    "print(dt_index_2)"
   ]
  },
  {
   "cell_type": "code",
   "execution_count": 70,
   "metadata": {},
   "outputs": [
    {
     "name": "stdout",
     "output_type": "stream",
     "text": [
      "['2017-2-1' '2017-2-2' '2017-2-3' 'abckso' '2017-2-5' '2017-2-6'] <class 'numpy.ndarray'>\n",
      "\n",
      "DatetimeIndex(['2017-02-01', '2017-02-02', '2017-02-03', 'NaT', '2017-02-05',\n",
      "               '2017-02-06'],\n",
      "              dtype='datetime64[ns]', freq=None) <class 'pandas.core.indexes.datetimes.DatetimeIndex'>\n"
     ]
    }
   ],
   "source": [
    "date_3 = ['2017-2-1','2017-2-2','2017-2-3','abckso','2017-2-5','2017-2-6']\n",
    "dt_index_3 = pd.to_datetime(date_3, errors='ignore')\n",
    "print(dt_index_3, type(dt_index_3)); print()\n",
    "dt_index_3 = pd.to_datetime(date_3, errors='coerce')    # coerce强制类型转换，必选\n",
    "print(dt_index_3, type(dt_index_3))"
   ]
  },
  {
   "cell_type": "markdown",
   "metadata": {},
   "source": [
    "# 【课程2.10】  Pandas时间戳索引：DatetimeIndex"
   ]
  },
  {
   "cell_type": "code",
   "execution_count": 79,
   "metadata": {},
   "outputs": [
    {
     "name": "stdout",
     "output_type": "stream",
     "text": [
      "DatetimeIndex(['2017-12-01', '2017-12-02', '2017-12-03', '2017-12-04',\n",
      "               '2017-12-05'],\n",
      "              dtype='datetime64[ns]', freq=None)\n",
      "<class 'pandas.core.indexes.datetimes.DatetimeIndex'>\n",
      "\n",
      "2017-12-01    24\n",
      "2017-12-02    50\n",
      "2017-12-03    15\n",
      "2017-12-04    58\n",
      "2017-12-05    73\n",
      "dtype: int64\n",
      "<class 'pandas.core.series.Series'>\n",
      "DatetimeIndex(['2017-12-01', '2017-12-02', '2017-12-03', '2017-12-04',\n",
      "               '2017-12-05'],\n",
      "              dtype='datetime64[ns]', freq=None)\n"
     ]
    }
   ],
   "source": [
    "rng = pd.DatetimeIndex(['12/1/2017','12/2/2017','12/3/2017','12/4/2017','12/5/2017'])\n",
    "print(rng)\n",
    "print(type(rng)); print()\n",
    "\n",
    "time_series = pd.Series(np.random.randint(100,size=5), index=rng)\n",
    "print(time_series)\n",
    "print(type(time_series))\n",
    "print(time_series.index)"
   ]
  },
  {
   "cell_type": "code",
   "execution_count": 95,
   "metadata": {},
   "outputs": [
    {
     "name": "stdout",
     "output_type": "stream",
     "text": [
      "DatetimeIndex(['2017-06-24', '2017-06-25', '2017-06-26', '2017-06-27',\n",
      "               '2017-06-28', '2017-06-29', '2017-06-30', '2017-07-01'],\n",
      "              dtype='datetime64[ns]', freq='D')\n",
      "\n",
      "DatetimeIndex(['2017-06-24', '2017-06-25', '2017-06-26', '2017-06-27',\n",
      "               '2017-06-28', '2017-06-29', '2017-06-30', '2017-07-01'],\n",
      "              dtype='datetime64[ns]', freq='D')\n",
      "\n",
      "DatetimeIndex(['2017-06-24 14:30:00', '2017-06-25 14:30:00',\n",
      "               '2017-06-26 14:30:00', '2017-06-27 14:30:00',\n",
      "               '2017-06-28 14:30:00', '2017-06-29 14:30:00',\n",
      "               '2017-06-30 14:30:00', '2017-07-01 14:30:00'],\n",
      "              dtype='datetime64[ns]', freq='D')\n",
      "\n",
      "DatetimeIndex(['2017-06-24', '2017-06-25', '2017-06-26', '2017-06-27',\n",
      "               '2017-06-28', '2017-06-29', '2017-06-30', '2017-07-01'],\n",
      "              dtype='datetime64[ns]', freq='D')\n",
      "\n",
      "DatetimeIndex(['2017-06-25', '2017-06-26', '2017-06-27', '2017-06-28',\n",
      "               '2017-06-29', '2017-06-30', '2017-07-01'],\n",
      "              dtype='datetime64[ns]', freq='D')\n",
      "\n",
      "DatetimeIndex(['2017-06-24', '2017-06-25', '2017-06-26', '2017-06-27',\n",
      "               '2017-06-28', '2017-06-29', '2017-06-30'],\n",
      "              dtype='datetime64[ns]', freq='D')\n",
      "\n"
     ]
    }
   ],
   "source": [
    "rng = pd.date_range('6/24/2017', '7/1/2017')\n",
    "print(rng); print()\n",
    "rng = pd.date_range(start='6/24/2017', periods=8)\n",
    "print(rng); print()\n",
    "rng = pd.date_range(start='6/24/2017 14:30', periods=8)\n",
    "print(rng); print()\n",
    "rng = pd.date_range(start='6/24/2017 14:30', periods=8, normalize=True)\n",
    "print(rng); print()\n",
    "rng = pd.date_range(start='6/24/2017', periods=8, closed='right')   # start + period 时，closed='left'不起作用！\n",
    "print(rng); print()\n",
    "rng = pd.date_range('6/24/2017', '7/1/2017', closed='left')\n",
    "print(rng); print()"
   ]
  },
  {
   "cell_type": "code",
   "execution_count": 109,
   "metadata": {},
   "outputs": [
    {
     "name": "stdout",
     "output_type": "stream",
     "text": [
      "2017-01-01    0.181929\n",
      "2017-01-02    0.219336\n",
      "2017-01-03    0.865096\n",
      "2017-01-04    0.079386\n",
      "2017-01-05    0.461199\n",
      "Freq: D, dtype: float64\n"
     ]
    }
   ],
   "source": [
    "time_series = pd.Series(np.random.rand(5), index=pd.date_range(start='1/1/2017', periods=5))\n",
    "print(time_series)"
   ]
  },
  {
   "cell_type": "code",
   "execution_count": 118,
   "metadata": {},
   "outputs": [
    {
     "name": "stdout",
     "output_type": "stream",
     "text": [
      "2017-01-31    0.694608\n",
      "2017-04-30    0.242727\n",
      "2017-07-31    0.433657\n",
      "2017-10-31    0.035968\n",
      "Freq: Q-OCT, dtype: float64\n",
      "DatetimeIndex(['2017-01-31', '2017-04-30', '2017-07-31', '2017-10-31'], dtype='datetime64[ns]', freq='Q-OCT')\n"
     ]
    }
   ],
   "source": [
    "time_series = pd.Series(np.random.rand(4), index=pd.date_range('2017', '2018', freq='Q-OCT'))\n",
    "print(time_series)\n",
    "print(pd.date_range('2017', '2018', freq='Q-OCT'))"
   ]
  },
  {
   "cell_type": "code",
   "execution_count": 121,
   "metadata": {},
   "outputs": [
    {
     "name": "stdout",
     "output_type": "stream",
     "text": [
      "                       value1    value2    value3    value4\n",
      "2017-12-01 00:00:00  0.057855  0.989301  0.031844  0.717065\n",
      "2017-12-01 00:10:00  0.532737  0.336028  0.039787  0.405454\n",
      "2017-12-01 00:20:00  0.384145  0.603688  0.707467  0.480792\n",
      "2017-12-01 00:30:00  0.907526  0.205033  0.173583  0.081223\n"
     ]
    }
   ],
   "source": [
    "time_series = pd.date_range(start='12/1/2017', freq='10T', periods=4)\n",
    "clm = ['value1', 'value2', 'value3', 'value4']\n",
    "time_df = pd.DataFrame(np.random.rand(4, 4), index=time_series, columns=clm)\n",
    "print(time_df)"
   ]
  },
  {
   "cell_type": "markdown",
   "metadata": {},
   "source": [
    "# 【课程2.11】  Pandas时期：Period"
   ]
  },
  {
   "cell_type": "code",
   "execution_count": 123,
   "metadata": {},
   "outputs": [
    {
     "name": "stdout",
     "output_type": "stream",
     "text": [
      "2017-01 <class 'pandas._libs.period.Period'>\n"
     ]
    }
   ],
   "source": [
    "pr = pd.Period('2017', freq='M')\n",
    "print(pr, type(pr))"
   ]
  },
  {
   "cell_type": "code",
   "execution_count": 128,
   "metadata": {},
   "outputs": [
    {
     "name": "stdout",
     "output_type": "stream",
     "text": [
      "PeriodIndex(['2017-01', '2017-02', '2017-03', '2017-04', '2017-05', '2017-06',\n",
      "             '2017-07', '2017-08', '2017-09', '2017-10', '2017-11', '2017-12'],\n",
      "            dtype='period[M]', freq='M')\n",
      "DatetimeIndex(['2017-01-31', '2017-02-28', '2017-03-31', '2017-04-30',\n",
      "               '2017-05-31', '2017-06-30', '2017-07-31', '2017-08-31',\n",
      "               '2017-09-30', '2017-10-31', '2017-11-30', '2017-12-31'],\n",
      "              dtype='datetime64[ns]', freq='M')\n"
     ]
    }
   ],
   "source": [
    "pr = pd.period_range(start='1/1/2017', freq='M', periods=12)\n",
    "rng = pd.date_range(start='1/1/2017', freq='M', periods=12)\n",
    "print(pr)\n",
    "print(rng)\n",
    "# Timestamp表示一个时间戳，是一个时间截面；Period是一个时期，是一个时间段，但两者作为index时区别不大。"
   ]
  },
  {
   "cell_type": "code",
   "execution_count": 180,
   "metadata": {},
   "outputs": [
    {
     "name": "stdout",
     "output_type": "stream",
     "text": [
      "2017Q2 <class 'pandas._libs.period.Period'>\n",
      "\n",
      "2016Q4\n"
     ]
    }
   ],
   "source": [
    "pr = pd.Period('2017', 'Q-AUG')\n",
    "print(pr, type(pr)); print()\n",
    "\n",
    "print(pr.asfreq('Q', how='start'))       # ???"
   ]
  },
  {
   "cell_type": "code",
   "execution_count": 186,
   "metadata": {},
   "outputs": [
    {
     "name": "stdout",
     "output_type": "stream",
     "text": [
      "2015-01-01    0.134838\n",
      "2015-01-02    0.719387\n",
      "2015-01-03    0.630995\n",
      "2015-01-04    0.803390\n",
      "2015-01-01    0.535873\n",
      "2015-01-02    0.164054\n",
      "dtype: float64\n",
      "\n",
      "True False\n",
      "\n",
      "2015-01-01    0.670711\n",
      "2015-01-02    0.883440\n",
      "2015-01-03    0.630995\n",
      "2015-01-04    0.803390\n",
      "dtype: float64\n"
     ]
    }
   ],
   "source": [
    "dates = pd.DatetimeIndex(['1/1/2015','1/2/2015','1/3/2015','1/4/2015','1/1/2015','1/2/2015'])\n",
    "time_series = pd.Series(np.random.rand(len(dates)), index=dates)\n",
    "print(time_series); print()\n",
    "\n",
    "print(time_series.is_unique, time_series.index.is_unique); print()\n",
    "\n",
    "print(time_series.groupby(level=0).sum())     # level=0按照第一个标签维度分组"
   ]
  }
 ],
 "metadata": {
  "kernelspec": {
   "display_name": "Python 3",
   "language": "python",
   "name": "python3"
  },
  "language_info": {
   "codemirror_mode": {
    "name": "ipython",
    "version": 3
   },
   "file_extension": ".py",
   "mimetype": "text/x-python",
   "name": "python",
   "nbconvert_exporter": "python",
   "pygments_lexer": "ipython3",
   "version": "3.6.4"
  }
 },
 "nbformat": 4,
 "nbformat_minor": 2
}
