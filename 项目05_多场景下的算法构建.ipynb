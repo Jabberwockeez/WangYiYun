{
 "cells": [
  {
   "cell_type": "markdown",
   "metadata": {
    "collapsed": true
   },
   "source": [
    "# 多场景下的算法构建  \n",
    "\n",
    "某公司A,B产品在2018年1,2,3月的销量数据，数据格式为xlsx。  \n",
    "\n",
    "按要求进行预测。"
   ]
  },
  {
   "cell_type": "markdown",
   "metadata": {},
   "source": [
    "***"
   ]
  },
  {
   "cell_type": "code",
   "execution_count": 18,
   "metadata": {},
   "outputs": [],
   "source": [
    "import numpy as np\n",
    "import pandas as pd\n",
    "import matplotlib.pyplot as plt\n",
    "from sklearn.linear_model import LinearRegression\n",
    "import os\n",
    "% matplotlib inline\n",
    "plt.style.use('ggplot')"
   ]
  },
  {
   "cell_type": "markdown",
   "metadata": {},
   "source": [
    "1、批量读取数据，并输出以下信息  \n",
    "（1）数据量  \n",
    "（2）数据字段columns  \n",
    "（3）输出每个文件分别有多少缺失值  "
   ]
  },
  {
   "cell_type": "code",
   "execution_count": 19,
   "metadata": {},
   "outputs": [
    {
     "name": "stdout",
     "output_type": "stream",
     "text": [
      "File Path:C:\\Users\\l\\Desktop\\sales_data\\\n",
      "\n",
      "数据长度为 31\n",
      "数据字段有 ['productA', 'productB']\n",
      "数据缺失量 3\n",
      "***********************************\n",
      "数据长度为 28\n",
      "数据字段有 ['productA', 'productB']\n",
      "数据缺失量 4\n",
      "***********************************\n",
      "数据长度为 31\n",
      "数据字段有 ['productA', 'productB']\n",
      "数据缺失量 3\n",
      "***********************************\n"
     ]
    }
   ],
   "source": [
    "def input_data():\n",
    "    path = input('File Path:')\n",
    "    print()\n",
    "    folder = os.walk(path)\n",
    "    files = list(folder)[0][2]\n",
    "    for index in files:\n",
    "        data = pd.read_excel(path + index, index_col=0)\n",
    "        print('数据长度为 {}'.format(len(data)))\n",
    "        print('数据字段有 {}'.format(data.columns.tolist()))\n",
    "        print('数据缺失量 {}'.format(len(data[data.isnull().values==True])))\n",
    "        print('*'*35)\n",
    "        \n",
    "input_data()"
   ]
  },
  {
   "cell_type": "markdown",
   "metadata": {},
   "source": [
    "os.walk返回一个三元组(root,dirs,files)。  \n",
    "- root 所指的是当前正在遍历的这个文件夹的本身的地址\n",
    "- dirs 是一个 list ，内容是该文件夹中所有的目录的名字(不包括子目录)\n",
    "- files 同样是 list , 内容是该文件夹中所有的文件(不包括子目录)"
   ]
  },
  {
   "cell_type": "markdown",
   "metadata": {},
   "source": [
    "***"
   ]
  },
  {
   "cell_type": "markdown",
   "metadata": {},
   "source": [
    "2、批量读取数据，用均值填充缺失值数据，并完成以下计算及图表制作  \n",
    "（1）读取数据并用均值填充缺失值；对“日期”字段进行时间序列处理，转换成日period ，最后输出三个Dataframe文件data1,data2,data3  \n",
    "（2）分别计算data1，data2，data3中A,B产品的月总销量，并绘制多系列柱状图，存储在对应的图片文件夹路径  \n",
    "（3）分别计算A产品在每个月中哪一天超过了月度80%的销量，输出日期"
   ]
  },
  {
   "cell_type": "code",
   "execution_count": 20,
   "metadata": {
    "scrolled": false
   },
   "outputs": [
    {
     "name": "stdout",
     "output_type": "stream",
     "text": [
      "File Path:C:\\Users\\l\\Desktop\\sales_data\\\n",
      "\n",
      "Image Saved！ Location：C:\\Users\\l\\Desktop\\sales_data\\img\n",
      "\n",
      "A产品月度超过80%的销量日期分别为 ['2018-01-26', '2018-02-23', '2018-03-25']\n",
      "\n"
     ]
    },
    {
     "data": {
      "text/plain": [
       "['2018-01-26', '2018-02-23', '2018-03-25']"
      ]
     },
     "execution_count": 20,
     "metadata": {},
     "output_type": "execute_result"
    },
    {
     "data": {
      "image/png": "[encoded data removed]",
      "text/plain": [
       "<Figure size 576x288 with 1 Axes>"
      ]
     },
     "metadata": {},
     "output_type": "display_data"
    }
   ],
   "source": [
    "def clean_data():\n",
    "    path = input('File Path:')\n",
    "    print()\n",
    "    folder = os.walk(path)\n",
    "    files = list(folder)[0][2]\n",
    "    data_collection = []\n",
    "    for idx in files:\n",
    "        data = pd.read_excel(path + idx, index_col=0)\n",
    "        columns = data.columns.tolist()\n",
    "        data.to_period()\n",
    "        data[columns[0]].fillna(data[columns[0]].mean(), inplace=True)\n",
    "        data[columns[1]].fillna(data[columns[1]].mean(), inplace=True)\n",
    "        data_collection.append(data)\n",
    "    return data_collection\n",
    "\n",
    "def month_sales(*data_collection):\n",
    "    path = r'C:\\Users\\l\\Desktop\\sales_data\\img'\n",
    "    A_sum, B_sum = [], []\n",
    "    for data in data_collection:\n",
    "        columns = data.columns  # 提取列名\n",
    "        A_sum.append(data[columns[0]].sum())\n",
    "        B_sum.append(data[columns[1]].sum())\n",
    "\n",
    "    df = pd.DataFrame({'A_sum': A_sum,'B_sum':B_sum}, index=pd.period_range('201801','201803',freq = 'M'))\n",
    "    df.plot(kind = 'bar', alpha = 0.6, rot = 0, figsize = (8,4), grid=True)\n",
    "    plt.title('1-3月A,B产品总销量')\n",
    "    plt.ylim([12000,24000])\n",
    "    plt.savefig(path + r'\\1-3月A,B产品总销量柱状图.png', dpi=400)\n",
    "    print('Image Saved！ Location：{}\\n'.format(path))\n",
    "    \n",
    "def month_kpi(*data_collection):\n",
    "    keydates = []\n",
    "    for data in data_collection:\n",
    "        columns = data.columns\n",
    "        data['A_sale_sum%'] = data[columns[0]].cumsum() / data[columns[0]].sum()\n",
    "        keydate = data[data['A_sale_sum%']>0.8].index[0]  \n",
    "        keydates.append(str(keydate).split()[0])\n",
    "        # 记录销量超过80%的日期\n",
    "    print('A产品月度超过80%的销量日期分别为 {}\\n'.format(keydates))\n",
    "    return(keydates)\n",
    "\n",
    "data = clean_data()\n",
    "data1 , data2, data3 = data[0], data[1], data[2]\n",
    "month_sales(data1, data2, data3)\n",
    "month_kpi(data1, data2, data3)"
   ]
  },
  {
   "cell_type": "markdown",
   "metadata": {},
   "source": [
    "***"
   ]
  },
  {
   "cell_type": "markdown",
   "metadata": {},
   "source": [
    "3、读取数据并合并，做散点图观察A,B产品销量，并做回归，预测当A销量为1200时，B产品销量值  \n",
    "（1）读取数据删除缺失值；对“日期”字段进行时间序列处理，转换成日period ，合并三个月数据，输出data；  \n",
    "（2）针对A产品销量和B产品销量数据做回归分析，制作散点图并存储，并预测当A销量为1200时，B产品销量值  "
   ]
  },
  {
   "cell_type": "code",
   "execution_count": 21,
   "metadata": {
    "scrolled": false
   },
   "outputs": [
    {
     "name": "stdout",
     "output_type": "stream",
     "text": [
      "File Path:C:\\Users\\l\\Desktop\\sales_data\\\n",
      "\n",
      "预测当A销量为1200时，B产品销量值为1303.84\n",
      "\n",
      "AB产品销量关系为：\n"
     ]
    },
    {
     "data": {
      "text/plain": [
       "array([1303.84193309])"
      ]
     },
     "execution_count": 21,
     "metadata": {},
     "output_type": "execute_result"
    },
    {
     "data": {
      "image/png": "[encoded data removed]",
      "text/plain": [
       "<Figure size 432x288 with 1 Axes>"
      ]
     },
     "metadata": {},
     "output_type": "display_data"
    }
   ],
   "source": [
    "def train_data():\n",
    "    path = input('File Path:')\n",
    "    print()\n",
    "    folder = os.walk(path)\n",
    "    files = list(folder)[0][2]\n",
    "    data_collection = []\n",
    "    for idx in files:\n",
    "        data = pd.read_excel(path + idx, index_col = 0)\n",
    "        columns = data.columns.tolist()\n",
    "        data.to_period()\n",
    "        data.dropna(inplace=True)\n",
    "        data_collection.append(data)\n",
    "    data = pd.concat([data_collection[0],data_collection[1],data_collection[2]])\n",
    "    return(data)\n",
    "\n",
    "def test_data(test):\n",
    "    path = r'C:\\Users\\l\\Desktop\\sales_data\\img'\n",
    "    model = LinearRegression()\n",
    "    model.fit(test['productA'][:,np.newaxis], test['productB'])  \n",
    "    # 构建回归模型\n",
    "    xtest = np.linspace(0,1000,1000)\n",
    "    ytest = model.predict(xtest[:,np.newaxis])\n",
    "    plt.scatter(test['productA'], test['productB'])\n",
    "    plt.plot(xtest, ytest)\n",
    "    plt.grid()\n",
    "    plt.title('A-B产品销量回归拟合')\n",
    "    plt.savefig(path + r'\\A-B产品销量回归拟合.png', dpi=400)  \n",
    "    return(model.predict(1200))\n",
    "\n",
    "data = train_data()\n",
    "print('预测当A销量为1200时，B产品销量值为{:.2f}'.format(test_data(data)[0]))\n",
    "print()\n",
    "print('AB产品销量关系为：')\n",
    "test_data(data)"
   ]
  }
 ],
 "metadata": {
  "anaconda-cloud": {},
  "kernelspec": {
   "display_name": "Python [default]",
   "language": "python",
   "name": "python3"
  },
  "language_info": {
   "codemirror_mode": {
    "name": "ipython",
    "version": 3
   },
   "file_extension": ".py",
   "mimetype": "text/x-python",
   "name": "python",
   "nbconvert_exporter": "python",
   "pygments_lexer": "ipython3",
   "version": "3.6.5"
  },
  "toc": {
   "base_numbering": 1,
   "nav_menu": {},
   "number_sections": true,
   "sideBar": true,
   "skip_h1_title": false,
   "title_cell": "Table of Contents",
   "title_sidebar": "Contents",
   "toc_cell": false,
   "toc_position": {},
   "toc_section_display": true,
   "toc_window_display": false
  }
 },
 "nbformat": 4,
 "nbformat_minor": 1
}
