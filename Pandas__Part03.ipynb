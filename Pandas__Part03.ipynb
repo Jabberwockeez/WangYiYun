{
 "cells": [
  {
   "cell_type": "markdown",
   "metadata": {},
   "source": [
    "# 【课程2.14】  数值计算和统计基础\n",
    "\n"
   ]
  },
  {
   "cell_type": "code",
   "execution_count": 1,
   "metadata": {
    "collapsed": true
   },
   "outputs": [],
   "source": [
    "import numpy as np\n",
    "import pandas as pd"
   ]
  },
  {
   "cell_type": "code",
   "execution_count": 15,
   "metadata": {},
   "outputs": [
    {
     "name": "stdout",
     "output_type": "stream",
     "text": [
      "   key1  key2 key3\n",
      "a   4.0   1.0    1\n",
      "b   5.0   2.0    2\n",
      "c   3.0   NaN    3\n",
      "d   NaN   4.0    j\n",
      "e   2.0   5.0    k\n",
      "float64 float64 object\n",
      "\n",
      "key1    3.5\n",
      "key2    3.0\n",
      "dtype: float64\n",
      "\n",
      "a    2.5\n",
      "b    3.5\n",
      "c    3.0\n",
      "d    4.0\n",
      "e    3.5\n",
      "dtype: float64\n",
      "\n",
      "a    2.5\n",
      "b    3.5\n",
      "c    NaN\n",
      "d    NaN\n",
      "e    3.5\n",
      "dtype: float64\n"
     ]
    }
   ],
   "source": [
    "df = pd.DataFrame({'key1':[4,5,3,np.nan,2],\n",
    "                 'key2':[1,2,np.nan,4,5],\n",
    "                 'key3':[1,2,3,'j','k']},\n",
    "                 index = ['a','b','c','d','e'])\n",
    "print(df)\n",
    "print(df['key1'].dtype, df['key2'].dtype, df['key3'].dtype); print()\n",
    "print(df.mean()); print()\n",
    "print(df.mean(axis=1)); print()\n",
    "print(df.mean(axis=1, skipna=False))"
   ]
  },
  {
   "cell_type": "code",
   "execution_count": 21,
   "metadata": {},
   "outputs": [
    {
     "name": "stdout",
     "output_type": "stream",
     "text": [
      "   key1      key2\n",
      "0     0  7.635358\n",
      "1     1  3.764091\n",
      "2     2  4.463140\n",
      "3     3  1.825754\n",
      "4     4  4.321943\n",
      "5     5  0.426122\n",
      "6     6  1.306313\n",
      "7     7  9.457383\n",
      "8     8  4.951559\n",
      "9     9  7.711278\n",
      "\n",
      "key1    4.500000\n",
      "key2    4.392541\n",
      "Name: 0.5, dtype: float64\n"
     ]
    }
   ],
   "source": [
    "df = pd.DataFrame({'key1':np.arange(10),\n",
    "                  'key2':np.random.rand(10)*10})\n",
    "print(df); print()\n",
    "print(df.quantile(q=0.5))"
   ]
  },
  {
   "cell_type": "code",
   "execution_count": 27,
   "metadata": {},
   "outputs": [
    {
     "name": "stdout",
     "output_type": "stream",
     "text": [
      "   key1      key2  key1_sum   key2_sum  key1_product   key2_product\n",
      "0     0  7.635358         0   7.635358             0       7.635358\n",
      "1     1  3.764091         1  11.399449             0      28.740183\n",
      "2     2  4.463140         3  15.862588             0     128.271447\n",
      "3     3  1.825754         6  17.688342             0     234.192072\n",
      "4     4  4.321943        10  22.010285             0    1012.164762\n",
      "5     5  0.426122        15  22.436407             0     431.305899\n",
      "6     6  1.306313        21  23.742720             0     563.420338\n",
      "7     7  9.457383        28  33.200102             0    5328.481658\n",
      "8     8  4.951559        36  38.151662             0   26384.292616\n",
      "9     9  7.711278        45  45.862939             0  203456.608823 → cumprod样本的累计和、累计积\n",
      "\n",
      "   key1      key2  key1_sum   key2_sum  key1_product   key2_product\n",
      "0   0.0  7.635358       0.0   7.635358           0.0       7.635358\n",
      "1   1.0  7.635358       1.0  11.399449           0.0      28.740183\n",
      "2   2.0  7.635358       3.0  15.862588           0.0     128.271447\n",
      "3   3.0  7.635358       6.0  17.688342           0.0     234.192072\n",
      "4   4.0  7.635358      10.0  22.010285           0.0    1012.164762\n",
      "5   5.0  7.635358      15.0  22.436407           0.0    1012.164762\n",
      "6   6.0  7.635358      21.0  23.742720           0.0    1012.164762\n",
      "7   7.0  9.457383      28.0  33.200102           0.0    5328.481658\n",
      "8   8.0  9.457383      36.0  38.151662           0.0   26384.292616\n",
      "9   9.0  9.457383      45.0  45.862939           0.0  203456.608823 \n",
      "\n",
      "    key1      key2  key1_sum  key2_sum  key1_product  key2_product\n",
      "0   0.0  7.635358       0.0  7.635358           0.0      7.635358\n",
      "1   0.0  3.764091       0.0  7.635358           0.0      7.635358\n",
      "2   0.0  3.764091       0.0  7.635358           0.0      7.635358\n",
      "3   0.0  1.825754       0.0  7.635358           0.0      7.635358\n",
      "4   0.0  1.825754       0.0  7.635358           0.0      7.635358\n",
      "5   0.0  0.426122       0.0  7.635358           0.0      7.635358\n",
      "6   0.0  0.426122       0.0  7.635358           0.0      7.635358\n",
      "7   0.0  0.426122       0.0  7.635358           0.0      7.635358\n",
      "8   0.0  0.426122       0.0  7.635358           0.0      7.635358\n",
      "9   0.0  0.426122       0.0  7.635358           0.0      7.635358 → cummax,cummin分别求累计最大值，累计最小值\n"
     ]
    }
   ],
   "source": [
    "df['key1_sum'] = df['key1'].cumsum()\n",
    "df['key2_sum'] = df['key2'].cumsum()\n",
    "df['key1_product'] = df['key1'].cumprod()\n",
    "df['key2_product'] = df['key2'].cumprod()\n",
    "print(df,'→ cumprod样本的累计和、累计积')\n",
    "print()\n",
    "print(df.cummax(),'\\n\\n',df.cummin(),'→ cummax,cummin分别求累计最大值，累计最小值')"
   ]
  },
  {
   "cell_type": "markdown",
   "metadata": {},
   "source": [
    "# 【课程2.15】  文本数据"
   ]
  },
  {
   "cell_type": "code",
   "execution_count": 40,
   "metadata": {},
   "outputs": [
    {
     "name": "stdout",
     "output_type": "stream",
     "text": [
      "0          A\n",
      "1          b\n",
      "2          C\n",
      "3    bbhello\n",
      "4        123\n",
      "5        NaN\n",
      "6         hj\n",
      "dtype: object\n",
      "\n",
      "0    0.0\n",
      "1    1.0\n",
      "2    0.0\n",
      "3    2.0\n",
      "4    0.0\n",
      "5    NaN\n",
      "6    0.0\n",
      "dtype: float64 <class 'pandas.core.series.Series'>\n",
      "\n",
      "  key1  key2\n",
      "0    a   hee\n",
      "1    b    fv\n",
      "2    c     w\n",
      "3    d  hija\n",
      "4    e   123\n",
      "5    f   NaN\n",
      "\n",
      "  key1  key2\n",
      "0    a   HEE\n",
      "1    b    FV\n",
      "2    c     W\n",
      "3    d  HIJA\n",
      "4    e   123\n",
      "5    f   NaN\n"
     ]
    }
   ],
   "source": [
    "s = pd.Series(['A','b','C','bbhello','123',np.nan,'hj'])\n",
    "df = pd.DataFrame({'key1':list('abcdef'),\n",
    "                  'key2':['hee','fv','w','hija','123',np.nan]})\n",
    "print(s); print()\n",
    "print(s.str.count('b'), type(s.str.count('b'))); print()\n",
    "print(df); print()\n",
    "df['key2'] = df['key2'].str.upper()\n",
    "print(df)"
   ]
  },
  {
   "cell_type": "code",
   "execution_count": 56,
   "metadata": {},
   "outputs": [
    {
     "name": "stdout",
     "output_type": "stream",
     "text": [
      "0      a,b,c\n",
      "1      1,2,3\n",
      "2    [a,,,c]\n",
      "3        NaN\n",
      "dtype: object\n",
      "\n",
      "0    [a, b, c]\n",
      "1    [1, 2, 3]\n",
      "2          NaN\n",
      "3          NaN\n",
      "dtype: object\n",
      "\n",
      "['a', 'b', 'c']\n",
      "\n",
      "0      a\n",
      "1      1\n",
      "2    NaN\n",
      "3    NaN\n",
      "dtype: object\n",
      "\n"
     ]
    }
   ],
   "source": [
    "s = pd.Series(['a,b,c','1,2,3',['a,,,c'],np.nan])\n",
    "print(s); print()\n",
    "print(s.str.split(',')); print()\n",
    "print(s.str.split(',')[0]); print()\n",
    "print(s.str.split(',').str[0]); print()    # 区别：[0]取index=0的object，.str[0]取每个object中第一个object"
   ]
  },
  {
   "cell_type": "code",
   "execution_count": 62,
   "metadata": {},
   "outputs": [
    {
     "name": "stdout",
     "output_type": "stream",
     "text": [
      "0      a,b,c\n",
      "1      1,2,3\n",
      "2    [a,,,c]\n",
      "3        NaN\n",
      "dtype: object\n",
      "\n",
      "     0     1     2\n",
      "0    a     b     c\n",
      "1    1     2     3\n",
      "2  NaN  None  None\n",
      "3  NaN  None  None\n",
      "\n",
      "     0     1\n",
      "0    a   b,c\n",
      "1    1   2,3\n",
      "2  NaN  None\n",
      "3  NaN  None\n",
      "\n",
      "     0     1\n",
      "0  a,b     c\n",
      "1  1,2     3\n",
      "2  NaN  None\n",
      "3  NaN  None\n"
     ]
    }
   ],
   "source": [
    "s = pd.Series(['a,b,c','1,2,3',['a,,,c'],np.nan])\n",
    "print(s); print()\n",
    "print(s.str.split(',', expand=True)); print()\n",
    "print(s.str.split(',', expand=True, n=1)); print()\n",
    "print(s.str.rsplit(',', expand=True, n=1))"
   ]
  },
  {
   "cell_type": "code",
   "execution_count": 86,
   "metadata": {},
   "outputs": [
    {
     "name": "stdout",
     "output_type": "stream",
     "text": [
      "       GENDER MATH ENGLISH ART\n",
      "NAME                          \n",
      "Jack        M   90      90  90\n",
      "Tom         M   89      89  89\n",
      "Marry       F   90      90  90\n",
      "Zack        M   78      78  78\n",
      "Heheda      F   60      60  60\n"
     ]
    }
   ],
   "source": [
    "jack_s = {'gender':'M', 'name':'jack', 'math':'90', 'english':'90', 'art':'90'}\n",
    "tom_s = {'gender':'M', 'name':'tom', 'math':'89', 'english':'89', 'art':'89'}\n",
    "marry_s = {'gender':'F', 'name':'marry', 'math':'90', 'english':'90', 'art':'90'}\n",
    "zack_s = {'gender':'M', 'name':'zack', 'math':'78', 'english':'78', 'art':'78'}\n",
    "heheda_s = {'gender':'F', 'name':'heheda', 'math':'60', 'english':'60', 'art':'60'}\n",
    "\n",
    "df = pd.DataFrame([jack_s, tom_s, marry_s, zack_s, heheda_s], columns=['gender', 'name', 'math', 'english', 'art'])\n",
    "df['name'] = df['name'].str.capitalize()\n",
    "df.columns = df.columns.str.upper()\n",
    "df = df.set_index('NAME')\n",
    "print(df)"
   ]
  },
  {
   "cell_type": "markdown",
   "metadata": {},
   "source": [
    "# 【课程2.16】  合并 merge、join"
   ]
  },
  {
   "cell_type": "code",
   "execution_count": 91,
   "metadata": {},
   "outputs": [
    {
     "name": "stdout",
     "output_type": "stream",
     "text": [
      "    A   B key\n",
      "0  A0  B0  K0\n",
      "1  A1  B1  K1\n",
      "2  A2  B2  K2\n",
      "3  A3  B3  K3 \n",
      "     C   D key\n",
      "0  C0  D0  K0\n",
      "1  C1  D1  K1\n",
      "2  C2  D2  K2\n",
      "3  C3  D3  K3 \n",
      "     A   B key1 key2\n",
      "0  A0  B0   K0   K0\n",
      "1  A1  B1   K0   K1\n",
      "2  A2  B2   K1   K0\n",
      "3  A3  B3   K2   K1 \n",
      "     C   D key1 key2\n",
      "0  C0  D0   K0   K0\n",
      "1  C1  D1   K1   K0\n",
      "2  C2  D2   K1   K0\n",
      "3  C3  D3   K2   K0\n",
      "\n",
      "    A   B key   C   D\n",
      "0  A0  B0  K0  C0  D0\n",
      "1  A1  B1  K1  C1  D1\n",
      "2  A2  B2  K2  C2  D2\n",
      "3  A3  B3  K3  C3  D3\n",
      "\n",
      "    A   B key1 key2   C   D\n",
      "0  A0  B0   K0   K0  C0  D0\n",
      "1  A2  B2   K1   K0  C1  D1\n",
      "2  A2  B2   K1   K0  C2  D2\n"
     ]
    }
   ],
   "source": [
    "df1 = pd.DataFrame({'key': ['K0', 'K1', 'K2', 'K3'],\n",
    "                     'A': ['A0', 'A1', 'A2', 'A3'],\n",
    "                     'B': ['B0', 'B1', 'B2', 'B3']})\n",
    "df2 = pd.DataFrame({'key': ['K0', 'K1', 'K2', 'K3'],\n",
    "                      'C': ['C0', 'C1', 'C2', 'C3'],\n",
    "                      'D': ['D0', 'D1', 'D2', 'D3']})\n",
    "df3 = pd.DataFrame({'key1': ['K0', 'K0', 'K1', 'K2'],\n",
    "                    'key2': ['K0', 'K1', 'K0', 'K1'],\n",
    "                    'A': ['A0', 'A1', 'A2', 'A3'],\n",
    "                    'B': ['B0', 'B1', 'B2', 'B3']})\n",
    "df4 = pd.DataFrame({'key1': ['K0', 'K1', 'K1', 'K2'],\n",
    "                    'key2': ['K0', 'K0', 'K0', 'K0'],\n",
    "                    'C': ['C0', 'C1', 'C2', 'C3'],\n",
    "                    'D': ['D0', 'D1', 'D2', 'D3']})\n",
    "print(df1, '\\n', df2, '\\n', df3, '\\n', df4); print()\n",
    "print(pd.merge(df1, df2, on='key')); print()\n",
    "print(pd.merge(df3, df4, on=['key1', 'key2']))"
   ]
  },
  {
   "cell_type": "code",
   "execution_count": 92,
   "metadata": {},
   "outputs": [
    {
     "name": "stdout",
     "output_type": "stream",
     "text": [
      "    A   B key1 key2   C   D\n",
      "0  A0  B0   K0   K0  C0  D0\n",
      "1  A2  B2   K1   K0  C1  D1\n",
      "2  A2  B2   K1   K0  C2  D2\n",
      "------\n",
      "     A    B key1 key2    C    D\n",
      "0   A0   B0   K0   K0   C0   D0\n",
      "1   A1   B1   K0   K1  NaN  NaN\n",
      "2   A2   B2   K1   K0   C1   D1\n",
      "3   A2   B2   K1   K0   C2   D2\n",
      "4   A3   B3   K2   K1  NaN  NaN\n",
      "5  NaN  NaN   K2   K0   C3   D3\n",
      "------\n",
      "    A   B key1 key2    C    D\n",
      "0  A0  B0   K0   K0   C0   D0\n",
      "1  A1  B1   K0   K1  NaN  NaN\n",
      "2  A2  B2   K1   K0   C1   D1\n",
      "3  A2  B2   K1   K0   C2   D2\n",
      "4  A3  B3   K2   K1  NaN  NaN\n",
      "------\n",
      "     A    B key1 key2   C   D\n",
      "0   A0   B0   K0   K0  C0  D0\n",
      "1   A2   B2   K1   K0  C1  D1\n",
      "2   A2   B2   K1   K0  C2  D2\n",
      "3  NaN  NaN   K2   K0  C3  D3\n"
     ]
    }
   ],
   "source": [
    "print(pd.merge(df3, df4,on=['key1','key2'], how = 'inner'))  \n",
    "print('------')\n",
    "# inner：默认，取交集\n",
    "\n",
    "print(pd.merge(df3, df4, on=['key1','key2'], how = 'outer'))  \n",
    "print('------')\n",
    "# outer：取并集，数据缺失范围NaN\n",
    "\n",
    "print(pd.merge(df3, df4, on=['key1','key2'], how = 'left'))  \n",
    "print('------')\n",
    "# left：按照df3为参考合并，数据缺失范围NaN\n",
    "\n",
    "print(pd.merge(df3, df4, on=['key1','key2'], how = 'right'))  \n",
    "# right：按照df4为参考合并，数据缺失范围NaN"
   ]
  },
  {
   "cell_type": "code",
   "execution_count": 97,
   "metadata": {},
   "outputs": [
    {
     "name": "stdout",
     "output_type": "stream",
     "text": [
      "   data1 lkey\n",
      "0      0    b\n",
      "1      1    b\n",
      "2      2    a\n",
      "3      3    c\n",
      "4      4    a\n",
      "5      5    a\n",
      "6      6    b \n",
      "\n",
      "    date2 rkey\n",
      "0      0    a\n",
      "1      1    b\n",
      "2      2    d\n",
      "\n",
      "   data1 lkey  date2 rkey\n",
      "0      0    b      1    b\n",
      "1      1    b      1    b\n",
      "2      6    b      1    b\n",
      "3      2    a      0    a\n",
      "4      4    a      0    a\n",
      "5      5    a      0    a\n"
     ]
    }
   ],
   "source": [
    "df1 = pd.DataFrame({'lkey':list('bbacaab'),\n",
    "                   'data1':range(7)})\n",
    "df2 = pd.DataFrame({'rkey':list('abd'),\n",
    "                   'date2':range(3)})\n",
    "print(df1, '\\n\\n', df2); print()\n",
    "\n",
    "print(pd.merge(df1, df2, left_on='lkey', right_on='rkey'))"
   ]
  },
  {
   "cell_type": "code",
   "execution_count": 102,
   "metadata": {},
   "outputs": [
    {
     "name": "stdout",
     "output_type": "stream",
     "text": [
      "   data1 key\n",
      "0      0   a\n",
      "1      1   b\n",
      "2      2   c\n",
      "3      3   d\n",
      "4      4   f\n",
      "5      5   e\n",
      "6      6   g \n",
      "\n",
      "    date2\n",
      "a    100\n",
      "b    101\n",
      "c    102\n",
      "d    103\n",
      "e    104\n",
      "\n",
      "   data1 key  date2\n",
      "0      0   a    100\n",
      "1      1   b    101\n",
      "2      2   c    102\n",
      "3      3   d    103\n",
      "5      5   e    104\n"
     ]
    }
   ],
   "source": [
    "df1 = pd.DataFrame({'key':list('abcdfeg'),\n",
    "                   'data1':range(7)})\n",
    "df2 = pd.DataFrame({'date2':range(100,105)},\n",
    "                  index = list('abcde'))\n",
    "print(df1, '\\n\\n', df2); print()\n",
    "# df2 = df2.reset_index(); print(df2)\n",
    "print(pd.merge(df1, df2, left_on='key', right_index=True))"
   ]
  },
  {
   "cell_type": "markdown",
   "metadata": {},
   "source": [
    "# 【课程2.17】  连接与修补 concat、combine_first"
   ]
  },
  {
   "cell_type": "code",
   "execution_count": 137,
   "metadata": {},
   "outputs": [
    {
     "name": "stdout",
     "output_type": "stream",
     "text": [
      "0    1\n",
      "1    2\n",
      "2    3\n",
      "dtype: int64\n",
      "0    2\n",
      "1    3\n",
      "2    4\n",
      "dtype: int64\n",
      "\n",
      "0    1\n",
      "1    2\n",
      "2    3\n",
      "0    2\n",
      "1    3\n",
      "2    4\n",
      "dtype: int64 <class 'pandas.core.series.Series'> ➡️default\n",
      "\n",
      "0    1\n",
      "0    2\n",
      "1    2\n",
      "1    3\n",
      "2    3\n",
      "2    4\n",
      "dtype: int64 ➡️sort index\n",
      "\n",
      "One  0    1\n",
      "     1    2\n",
      "     2    3\n",
      "Two  0    2\n",
      "     1    3\n",
      "     2    4\n",
      "dtype: int64 ➡️key 层次\n",
      "\n",
      "   One  Two\n",
      "0    1    2\n",
      "1    2    3\n",
      "2    3    4 <class 'pandas.core.frame.DataFrame'> ➡️以列合并，结构类型变为DataFrame\n"
     ]
    }
   ],
   "source": [
    "s1 = pd.Series([1,2,3])\n",
    "s2 = pd.Series([2,3,4])\n",
    "s3 = pd.Series([1,2,3],index = ['a','c','h'])\n",
    "s4 = pd.Series([2,3,4],index = ['b','e','d'])\n",
    "print(s1); print(s2); print()\n",
    "s_cat = pd.concat([s1, s2])\n",
    "print(s_cat, type(s_cat), '➡️default'); print()\n",
    "s_cat = pd.concat([s1, s2]).sort_index()\n",
    "print(s_cat, '➡️sort index'); print()\n",
    "s_cat = pd.concat([s1, s2], keys=['One', 'Two'])\n",
    "print(s_cat, '➡️key 层次'); print()\n",
    "s_cat = pd.concat([s1, s2], axis=1, keys=['One', 'Two'])\n",
    "print(s_cat, type(s_cat), '➡️以列合并，结构类型变为DataFrame')"
   ]
  },
  {
   "cell_type": "code",
   "execution_count": 146,
   "metadata": {},
   "outputs": [
    {
     "name": "stdout",
     "output_type": "stream",
     "text": [
      "     0    1    2\n",
      "0  NaN  1.0  2.0\n",
      "1  3.0  NaN  NaN\n",
      "2  NaN  4.0  NaN\n",
      "   0    1  2\n",
      "1  5  NaN  6\n",
      "2  7  8.0  9\n",
      "\n",
      "     0    1    2\n",
      "0  NaN  1.0  2.0\n",
      "1  3.0  NaN  6.0\n",
      "2  7.0  4.0  9.0 ➡️combine_first生成新DataFrame\n",
      "\n",
      "     0    1    2\n",
      "0  NaN  1.0  2.0\n",
      "1  3.0  NaN  NaN\n",
      "2  NaN  4.0  NaN ➡️combine_first不改变原DataFrame\n",
      "\n",
      "None ➡️update不生成新DataFrame\n",
      "\n",
      "     0    1    2\n",
      "0  NaN  1.0  2.0\n",
      "1  5.0  NaN  6.0\n",
      "2  7.0  8.0  9.0 ➡️update改变原DataFrame\n"
     ]
    }
   ],
   "source": [
    "df1 = pd.DataFrame([[np.nan, 1, 2], [3, np.nan, np.nan],[np.nan, 4, np.nan]])\n",
    "df2 = pd.DataFrame([[5, np.nan, 6], [7, 8, 9]],index=[1, 2])\n",
    "print(df1); print(df2); print()\n",
    "df_cf = df1.combine_first(df2)\n",
    "print(df_cf, '➡️combine_first生成新DataFrame'); print()\n",
    "print(df1, '➡️combine_first不改变原DataFrame'); print()\n",
    "df_ud = df1.update(df2)\n",
    "print(df_ud, '➡️update不生成新DataFrame'); print()\n",
    "# print(df1.update(df2), '➡️update改变原DataFrame')\n",
    "print(df1, '➡️update改变原DataFrame')"
   ]
  },
  {
   "cell_type": "markdown",
   "metadata": {},
   "source": [
    "# 【课程2.18】  去重及替换"
   ]
  },
  {
   "cell_type": "code",
   "execution_count": 154,
   "metadata": {},
   "outputs": [
    {
     "name": "stdout",
     "output_type": "stream",
     "text": [
      "0    1\n",
      "1    1\n",
      "2    2\n",
      "3    2\n",
      "4    2\n",
      "5    3\n",
      "6    4\n",
      "7    5\n",
      "8    5\n",
      "dtype: int64\n",
      "\n",
      "0    False\n",
      "1     True\n",
      "2    False\n",
      "3     True\n",
      "4     True\n",
      "5    False\n",
      "6    False\n",
      "7    False\n",
      "8     True\n",
      "dtype: bool\n",
      "0    1\n",
      "1    1\n",
      "2    2\n",
      "3    2\n",
      "4    2\n",
      "5    3\n",
      "6    4\n",
      "7    5\n",
      "8    5\n",
      "dtype: int64\n",
      "\n",
      "0    1\n",
      "2    2\n",
      "5    3\n",
      "6    4\n",
      "7    5\n",
      "dtype: int64\n",
      "\n",
      "[1 2 3 4 5]\n"
     ]
    }
   ],
   "source": [
    "s = pd.Series([1,1,2,2,2,3,4,5,5])\n",
    "print(s); print()\n",
    "\n",
    "s_dup = s.duplicated()\n",
    "print(s_dup); print(s); print()\n",
    "print(s[s.duplicated()==False]); print()\n",
    "print(s.unique())"
   ]
  },
  {
   "cell_type": "code",
   "execution_count": 156,
   "metadata": {},
   "outputs": [
    {
     "name": "stdout",
     "output_type": "stream",
     "text": [
      "0    1\n",
      "2    2\n",
      "5    3\n",
      "6    4\n",
      "7    5\n",
      "dtype: int64\n",
      "\n",
      "0    1\n",
      "1    1\n",
      "2    2\n",
      "3    2\n",
      "4    2\n",
      "5    3\n",
      "6    4\n",
      "7    5\n",
      "8    5\n",
      "dtype: int64\n"
     ]
    }
   ],
   "source": [
    "s = pd.Series([1,1,2,2,2,3,4,5,5])\n",
    "s_dup = s.drop_duplicates()\n",
    "print(s_dup); print()\n",
    "print(s)"
   ]
  },
  {
   "cell_type": "code",
   "execution_count": 160,
   "metadata": {},
   "outputs": [
    {
     "name": "stdout",
     "output_type": "stream",
     "text": [
      "  key1 key2\n",
      "0    a    a\n",
      "1    a    a\n",
      "2    3    b\n",
      "3    4    b\n",
      "4    5    c\n",
      "\n",
      "0    False\n",
      "1     True\n",
      "2    False\n",
      "3    False\n",
      "4    False\n",
      "dtype: bool\n",
      "\n",
      "0    False\n",
      "1     True\n",
      "2    False\n",
      "3     True\n",
      "4    False\n",
      "Name: key2, dtype: bool\n"
     ]
    }
   ],
   "source": [
    "df = pd.DataFrame({'key1':['a','a',3,4,5],\n",
    "                  'key2':['a','a','b','b','c']})\n",
    "print(df); print()\n",
    "print(df.duplicated()); print()\n",
    "print(df['key2'].duplicated())"
   ]
  },
  {
   "cell_type": "code",
   "execution_count": 162,
   "metadata": {},
   "outputs": [
    {
     "name": "stdout",
     "output_type": "stream",
     "text": [
      "0    A.\n",
      "1    S.\n",
      "2     c\n",
      "3    A.\n",
      "4    A.\n",
      "5     z\n",
      "6    S.\n",
      "7     d\n",
      "dtype: object\n"
     ]
    }
   ],
   "source": [
    "s = pd.Series(list('ascaazsd'))\n",
    "dic = {'a':'A.', 's':'S.'}\n",
    "print(s.replace(dic))"
   ]
  },
  {
   "cell_type": "markdown",
   "metadata": {},
   "source": [
    "# 【课程2.19】  数据分组"
   ]
  },
  {
   "cell_type": "code",
   "execution_count": 174,
   "metadata": {},
   "outputs": [
    {
     "name": "stdout",
     "output_type": "stream",
     "text": [
      "     A      B         C         D\n",
      "0  foo    one -0.737820  0.120750\n",
      "1  bar    one  2.087435 -0.977280\n",
      "2  foo    two -0.887363 -0.306335\n",
      "3  bar  three -2.186794  2.231988\n",
      "4  foo    two  0.726514  0.782597\n",
      "5  bar    two -0.114476 -0.007247\n",
      "6  foo    one  0.253123 -0.295783\n",
      "7  foo  three -0.475293 -0.531209\n",
      "\n",
      "<pandas.core.groupby.DataFrameGroupBy object at 0x112609320>\n",
      "\n",
      "            C        D\n",
      "A                     \n",
      "bar -0.213835  1.24746\n",
      "foo -1.120839 -0.22998\n",
      "\n",
      "                  C         D\n",
      "A   B                        \n",
      "bar one    2.087435 -0.977280\n",
      "    three -2.186794  2.231988\n",
      "    two   -0.114476 -0.007247\n",
      "foo one   -0.484697 -0.175032\n",
      "    three -0.475293 -0.531209\n",
      "    two   -0.160849  0.476262\n",
      "\n",
      "     A      B         C         D\n",
      "0  foo    one -0.737820  0.120750\n",
      "1  bar    one  2.087435 -0.977280\n",
      "2  foo    two -0.887363 -0.306335\n",
      "3  bar  three -2.186794  2.231988\n",
      "4  foo    two  0.726514  0.782597\n",
      "5  bar    two -0.114476 -0.007247\n",
      "6  foo    one  0.253123 -0.295783\n",
      "7  foo  three -0.475293 -0.531209\n"
     ]
    }
   ],
   "source": [
    "df = pd.DataFrame({'A' : ['foo', 'bar', 'foo', 'bar','foo', 'bar', 'foo', 'foo'],\n",
    "                   'B' : ['one', 'one', 'two', 'three', 'two', 'two', 'one', 'three'],\n",
    "                   'C' : np.random.randn(8),\n",
    "                   'D' : np.random.randn(8)})\n",
    "print(df); print()\n",
    "print(df.groupby('A')); print()\n",
    "print(df.groupby('A').sum()); print()\n",
    "print(df.groupby(['A', 'B']).sum()); print()\n",
    "print(df)"
   ]
  },
  {
   "cell_type": "code",
   "execution_count": 193,
   "metadata": {},
   "outputs": [
    {
     "name": "stdout",
     "output_type": "stream",
     "text": [
      "   X  Y\n",
      "0  A  1\n",
      "1  B  4\n",
      "2  A  3\n",
      "3  B  2\n",
      "\n",
      "[('A',    X  Y\n",
      "0  A  1\n",
      "2  A  3), ('B',    X  Y\n",
      "1  B  4\n",
      "3  B  2)]\n",
      "\n",
      "A :\n",
      "   X  Y\n",
      "0  A  1\n",
      "2  A  3 <class 'pandas.core.frame.DataFrame'>\n",
      "B :\n",
      "   X  Y\n",
      "1  B  4\n",
      "3  B  2 <class 'pandas.core.frame.DataFrame'>\n"
     ]
    }
   ],
   "source": [
    "df = pd.DataFrame({'X' : ['A', 'B', 'A', 'B'], 'Y' : [1, 4, 3, 2]})\n",
    "print(df); print()\n",
    "print(list(df.groupby(['X']))); print()\n",
    "\n",
    "for i,v in df.groupby(['X']):\n",
    "    print(i,':')\n",
    "    print(v, type(v))"
   ]
  },
  {
   "cell_type": "code",
   "execution_count": 226,
   "metadata": {},
   "outputs": [
    {
     "name": "stdout",
     "output_type": "stream",
     "text": [
      "   X  Y\n",
      "0  A  1\n",
      "2  A  3\n",
      "\n",
      "   X  Y\n",
      "1  B  4\n",
      "3  B  2\n",
      "\n",
      "{'A': Int64Index([0, 2], dtype='int64'), 'B': Int64Index([1, 3], dtype='int64')}\n",
      "\n"
     ]
    }
   ],
   "source": [
    "gb = df.groupby(['X'])\n",
    "print(gb.get_group('A')); print()\n",
    "print(gb.get_group('B')); print()\n",
    "print(gb.groups); print()"
   ]
  },
  {
   "cell_type": "code",
   "execution_count": 228,
   "metadata": {},
   "outputs": [
    {
     "name": "stdout",
     "output_type": "stream",
     "text": [
      "     A      B         C         D\n",
      "0  foo    one -0.089019  0.308939\n",
      "1  bar    one  0.862563 -2.482975\n",
      "2  foo    two  0.203014 -0.582764\n",
      "3  bar  three -0.629736 -0.847127\n",
      "4  foo    two  0.238451 -0.899152\n",
      "5  bar    two -0.863280  0.713257\n",
      "6  foo    one -1.415429 -0.503119\n",
      "7  foo  three -0.418877  0.005066\n",
      "\n",
      "{('bar', 'one'): Int64Index([1], dtype='int64'), ('bar', 'three'): Int64Index([3], dtype='int64'), ('bar', 'two'): Int64Index([5], dtype='int64'), ('foo', 'one'): Int64Index([0, 6], dtype='int64'), ('foo', 'three'): Int64Index([7], dtype='int64'), ('foo', 'two'): Int64Index([2, 4], dtype='int64')}\n"
     ]
    }
   ],
   "source": [
    "df = pd.DataFrame({'A' : ['foo', 'bar', 'foo', 'bar','foo', 'bar', 'foo', 'foo'],\n",
    "                   'B' : ['one', 'one', 'two', 'three', 'two', 'two', 'one', 'three'],\n",
    "                   'C' : np.random.randn(8),\n",
    "                   'D' : np.random.randn(8)})\n",
    "print(df); print()\n",
    "gb = df.groupby(['A', 'B']).groups\n",
    "print(gb)"
   ]
  },
  {
   "cell_type": "code",
   "execution_count": 245,
   "metadata": {},
   "outputs": [
    {
     "name": "stdout",
     "output_type": "stream",
     "text": [
      "    a   b   c   d\n",
      "0   0   1   2   3\n",
      "1   4   5   6   7\n",
      "2   8   9  10  11\n",
      "3  12  13  14  15\n",
      "\n",
      "<pandas.core.groupby.DataFrameGroupBy object at 0x112258710>\n",
      "\n",
      "   One  Two\n",
      "0    1    5\n",
      "1    9   13\n",
      "2   17   21\n",
      "3   25   29\n",
      "\n"
     ]
    }
   ],
   "source": [
    "df = pd.DataFrame(np.arange(16).reshape(4,4),\n",
    "                  columns = ['a','b','c','d'])\n",
    "print(df); print()\n",
    "mapping = {'a':'One', 'b':'One', 'c':'Two', 'd':'Two'}\n",
    "gb = df.groupby(mapping, axis=1)\n",
    "print(gb); print()\n",
    "print(gb.sum()); print()"
   ]
  },
  {
   "cell_type": "code",
   "execution_count": 246,
   "metadata": {},
   "outputs": [
    {
     "name": "stdout",
     "output_type": "stream",
     "text": [
      "a    One\n",
      "b    One\n",
      "c    Two\n",
      "d    Two\n",
      "dtype: object\n",
      "\n",
      "{'One': Index(['a', 'b'], dtype='object'), 'Two': Index(['c', 'd'], dtype='object')}\n"
     ]
    }
   ],
   "source": [
    "s = pd.Series(mapping)\n",
    "print(s); print()\n",
    "print(s.groupby(s).groups)"
   ]
  },
  {
   "cell_type": "code",
   "execution_count": 256,
   "metadata": {},
   "outputs": [
    {
     "name": "stdout",
     "output_type": "stream",
     "text": [
      "      a   b   c   d\n",
      "abc   0   1   2   3\n",
      "bcd   4   5   6   7\n",
      "aa    8   9  10  11\n",
      "b    12  13  14  15\n",
      "\n",
      "    a   b   c   d\n",
      "1  12  13  14  15\n",
      "2   8   9  10  11\n",
      "3   4   6   8  10\n"
     ]
    }
   ],
   "source": [
    "df = pd.DataFrame(np.arange(16).reshape(4, 4),\n",
    "                  columns = ['a','b','c','d'],\n",
    "                 index = ['abc','bcd','aa','b'])\n",
    "print(df); print()\n",
    "print(df.groupby(len).sum())"
   ]
  },
  {
   "cell_type": "code",
   "execution_count": 273,
   "metadata": {},
   "outputs": [
    {
     "name": "stdout",
     "output_type": "stream",
     "text": [
      "   a         b         c         d\n",
      "0  1  0.836980  0.056584  0.376991\n",
      "1  1  0.511656  0.137504  0.929226\n",
      "2  2  0.976842  0.431913  0.813916\n",
      "3  2  0.711334  0.834051  0.226695\n",
      "\n",
      "          b                             c                             d  \\\n",
      "        sum      mean       std       sum      mean       std       sum   \n",
      "a                                                                         \n",
      "1  1.348635  0.674318  0.230039  0.194088  0.097044  0.057219  1.306218   \n",
      "2  1.688176  0.844088  0.187742  1.265964  0.632982  0.284354  1.040611   \n",
      "\n",
      "                       \n",
      "       mean       std  \n",
      "a                      \n",
      "1  0.653109  0.390489  \n",
      "2  0.520306  0.415229  \n"
     ]
    }
   ],
   "source": [
    "df = pd.DataFrame({'a':[1,1,2,2],\n",
    "                  'b':np.random.rand(4),\n",
    "                  'c':np.random.rand(4),\n",
    "                  'd':np.random.rand(4)})\n",
    "print(df); print()\n",
    "print(df.groupby('a').agg({np.mean, np.sum, np.std}))\n"
   ]
  },
  {
   "cell_type": "markdown",
   "metadata": {},
   "source": [
    "# 【课程2.20】  分组转换及一般性“拆分-应用-合并”"
   ]
  },
  {
   "cell_type": "code",
   "execution_count": 285,
   "metadata": {},
   "outputs": [
    {
     "name": "stdout",
     "output_type": "stream",
     "text": [
      "      data1     data2 key1 key2\n",
      "0  0.154800  0.798241    a  one\n",
      "1  0.928742  0.906948    a  two\n",
      "2  0.950318  0.596550    b  one\n",
      "3  0.384909  0.271952    b  two\n",
      "4  0.840398  0.956130    a  one\n",
      "\n",
      "         data1     data2\n",
      "key1                    \n",
      "a     0.641313  0.887106\n",
      "b     0.667614  0.434251\n",
      "\n",
      "    data1_x   data2_x key1 key2   data1_y   data2_y\n",
      "0  0.154800  0.798241    a  one  0.641313  0.887106\n",
      "1  0.928742  0.906948    a  two  0.641313  0.887106\n",
      "2  0.840398  0.956130    a  one  0.641313  0.887106\n",
      "3  0.950318  0.596550    b  one  0.667614  0.434251\n",
      "4  0.384909  0.271952    b  two  0.667614  0.434251\n",
      "\n"
     ]
    }
   ],
   "source": [
    "df = pd.DataFrame({'data1':np.random.rand(5),\n",
    "                  'data2':np.random.rand(5),\n",
    "                  'key1':list('aabba'),\n",
    "                  'key2':['one','two','one','two','one']})\n",
    "print(df); print()\n",
    "k_mean = df.groupby('key1').mean()\n",
    "print(k_mean); print()\n",
    "k_mean = k_mean.reset_index()\n",
    "print(pd.merge(df, k_mean, how='outer', left_on='key1', right_on='key1')); print()"
   ]
  },
  {
   "cell_type": "code",
   "execution_count": 296,
   "metadata": {},
   "outputs": [
    {
     "name": "stdout",
     "output_type": "stream",
     "text": [
      "      data1     data2 key1 key2\n",
      "0  0.486100  0.681181    a  one\n",
      "1  0.195051  0.184083    a  two\n",
      "2  0.274368  0.482163    b  one\n",
      "3  0.865634  0.728149    b  two\n",
      "4  0.200312  0.530165    a  one\n",
      "\n",
      "      data1     data2\n",
      "0  0.293821  0.465143\n",
      "1  0.293821  0.465143\n",
      "2  0.570001  0.605156\n",
      "3  0.570001  0.605156\n",
      "4  0.293821  0.465143\n"
     ]
    }
   ],
   "source": [
    "print(df); print()\n",
    "print(df.groupby('key1').transform(np.mean))"
   ]
  },
  {
   "cell_type": "code",
   "execution_count": 290,
   "metadata": {},
   "outputs": [
    {
     "name": "stdout",
     "output_type": "stream",
     "text": [
      "      data1     data2 key1 key2\n",
      "0  0.486100  0.681181    a  one\n",
      "1  0.195051  0.184083    a  two\n",
      "2  0.274368  0.482163    b  one\n",
      "3  0.865634  0.728149    b  two\n",
      "4  0.200312  0.530165    a  one\n",
      "\n",
      "               data1     data2\n",
      "key1                          \n",
      "a    count  3.000000  3.000000\n",
      "     mean   0.293821  0.465143\n",
      "     std    0.166539  0.254848\n",
      "     min    0.195051  0.184083\n",
      "     25%    0.197682  0.357124\n",
      "     50%    0.200312  0.530165\n",
      "     75%    0.343206  0.605673\n",
      "     max    0.486100  0.681181\n",
      "b    count  2.000000  2.000000\n",
      "     mean   0.570001  0.605156\n",
      "     std    0.418089  0.173938\n",
      "     min    0.274368  0.482163\n",
      "     25%    0.422185  0.543660\n",
      "     50%    0.570001  0.605156\n",
      "     75%    0.717818  0.666652\n",
      "     max    0.865634  0.728149\n"
     ]
    }
   ],
   "source": [
    "df = pd.DataFrame({'data1':np.random.rand(5),\n",
    "                  'data2':np.random.rand(5),\n",
    "                  'key1':list('aabba'),\n",
    "                  'key2':['one','two','one','two','one']})\n",
    "print(df); print()\n",
    "print(df.groupby('key1').apply(lambda x: x.describe()))"
   ]
  },
  {
   "cell_type": "code",
   "execution_count": 313,
   "metadata": {},
   "outputs": [
    {
     "name": "stdout",
     "output_type": "stream",
     "text": [
      "key1   \n",
      "a     0    0.681181\n",
      "b     3    0.728149\n",
      "Name: data2, dtype: float64\n"
     ]
    }
   ],
   "source": [
    "def fun_1(adf, col, loc):\n",
    "    return (adf[col].sort_values(ascending=False)[:loc])\n",
    "\n",
    "print(df.groupby('key1').apply(fun_1, 'data2', 1))"
   ]
  },
  {
   "cell_type": "markdown",
   "metadata": {},
   "source": [
    "# 【课程2.21】  透视表及交叉表"
   ]
  },
  {
   "cell_type": "code",
   "execution_count": 326,
   "metadata": {},
   "outputs": [
    {
     "name": "stdout",
     "output_type": "stream",
     "text": [
      "        date key    values\n",
      "0 2017-05-01   a  0.251046\n",
      "1 2017-05-02   b  4.192200\n",
      "2 2017-05-03   c  2.996111\n",
      "3 2017-05-01   d  8.083653\n",
      "4 2017-05-02   a  2.450088\n",
      "5 2017-05-03   b  7.304014\n",
      "6 2017-05-01   c  1.511305\n",
      "7 2017-05-02   d  8.533579\n",
      "8 2017-05-03   a  3.380187\n",
      "\n",
      "key                a         b         c         d\n",
      "date                                              \n",
      "2017-05-01  0.251046       NaN  1.511305  8.083653\n",
      "2017-05-02  2.450088  4.192200       NaN  8.533579\n",
      "2017-05-03  3.380187  7.304014  2.996111       NaN\n",
      "\n",
      "                  values\n",
      "date       key          \n",
      "2017-05-01 a    0.251046\n",
      "           c    1.511305\n",
      "           d    8.083653\n",
      "2017-05-02 a    2.450088\n",
      "           b    4.192200\n",
      "           d    8.533579\n",
      "2017-05-03 a    3.380187\n",
      "           b    7.304014\n",
      "           c    2.996111\n"
     ]
    }
   ],
   "source": [
    "date = ['2017-5-1','2017-5-2','2017-5-3']*3\n",
    "rng = pd.to_datetime(date)\n",
    "df = pd.DataFrame({'date':rng,\n",
    "                   'key':list('abcdabcda'),\n",
    "                  'values':np.random.rand(9)*10})\n",
    "print(df); print()\n",
    "\n",
    "print(pd.pivot_table(df, index='date', columns='key', values='values', aggfunc=np.sum)); print()\n",
    "print(pd.pivot_table(df, index=['date', 'key'], aggfunc=np.sum))"
   ]
  },
  {
   "cell_type": "code",
   "execution_count": 342,
   "metadata": {},
   "outputs": [
    {
     "name": "stdout",
     "output_type": "stream",
     "text": [
      "   A  B    C\n",
      "0  1  3  1.0\n",
      "1  2  3  1.0\n",
      "2  2  4  NaN\n",
      "3  2  4  1.0\n",
      "4  2  4  1.0\n",
      "\n",
      "B  3  4\n",
      "A      \n",
      "1  1  0\n",
      "2  1  3 ➡️ 当B=3时，A=1出现1次，A=2出现1次；当B=4时，A=1出现0次，A=2出现3次\n",
      "\n",
      "A  1  2\n",
      "B      \n",
      "3  1  1\n",
      "4  0  3 ➡️ A=1,B=3出现1次, A=2,B=3出现1次, A=1,B=40次, A=2,B=4出现3次\n",
      "\n",
      "A    1  2  All\n",
      "B             \n",
      "3    1  1    2\n",
      "4    0  3    3\n",
      "All  1  4    5 ➡️ 计算边际和\n",
      "\n",
      "A    1    2\n",
      "B          \n",
      "3  0.2  0.2\n",
      "4  0.0  0.6 ➡️ 出现频率\n",
      "\n",
      "A    1    2\n",
      "B          \n",
      "3  1.0  1.0\n",
      "4  NaN  2.0 ➡️ 计算A=x,B=y下C的和\n"
     ]
    }
   ],
   "source": [
    "df = pd.DataFrame({'A': [1, 2, 2, 2, 2],\n",
    "                   'B': [3, 3, 4, 4, 4],\n",
    "                   'C': [1, 1, np.nan, 1, 1]})\n",
    "print(df); print()\n",
    "print(pd.crosstab(df['A'], df['B']), '➡️ 当B=3时，A=1出现1次，A=2出现1次；当B=4时，A=1出现0次，A=2出现3次'); print()\n",
    "print(pd.crosstab(df['B'], df['A']), '➡️ A=1,B=3出现1次, A=2,B=3出现1次, A=1,B=40次, A=2,B=4出现3次'); print()\n",
    "print(pd.crosstab(df['B'], df['A'], margins=True), '➡️ 计算边际和'); print()\n",
    "print(pd.crosstab(df['B'], df['A'], normalize=True), '➡️ 出现频率'); print()\n",
    "print(pd.crosstab(df['B'], df['A'], values=df['C'], aggfunc=np.sum), '➡️ 计算A=x,B=y下C的和')"
   ]
  }
 ],
 "metadata": {
  "kernelspec": {
   "display_name": "Python 3",
   "language": "python",
   "name": "python3"
  },
  "language_info": {
   "codemirror_mode": {
    "name": "ipython",
    "version": 3
   },
   "file_extension": ".py",
   "mimetype": "text/x-python",
   "name": "python",
   "nbconvert_exporter": "python",
   "pygments_lexer": "ipython3",
   "version": "3.6.4"
  }
 },
 "nbformat": 4,
 "nbformat_minor": 2
}
